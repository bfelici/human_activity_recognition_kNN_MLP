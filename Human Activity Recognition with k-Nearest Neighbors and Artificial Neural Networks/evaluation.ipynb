{
 "cells": [
  {
   "cell_type": "code",
   "execution_count": 1,
   "id": "9de06dbd",
   "metadata": {},
   "outputs": [],
   "source": [
    "import pickle\n",
    "import numpy as np\n",
    "from sklearn.metrics import roc_auc_score\n",
    "from sklearn.metrics import roc_curve\n",
    "import matplotlib.pyplot as plt"
   ]
  },
  {
   "cell_type": "code",
   "execution_count": 2,
   "id": "eee86a23",
   "metadata": {},
   "outputs": [],
   "source": [
    "# Loading the predictions for kNN Classifier\n",
    "with open('predictions_kNN_eng.pkl', 'rb') as file:\n",
    "    loaded_data = pickle.load(file)\n",
    "    pred1_eng  = loaded_data  \n"
   ]
  },
  {
   "cell_type": "code",
   "execution_count": 3,
   "id": "9624a0f7",
   "metadata": {},
   "outputs": [],
   "source": [
    "# Loading the predictions for NN Classifier\n",
    "with open('predictions_NN_eng.pkl', 'rb') as file:\n",
    "    loaded_data = pickle.load(file)\n",
    "    pred2_eng = loaded_data  \n"
   ]
  },
  {
   "cell_type": "code",
   "execution_count": 6,
   "id": "d5e8c5ad",
   "metadata": {},
   "outputs": [],
   "source": [
    "# Loading the true class\n",
    "with open('true_class.pkl', 'rb') as file:\n",
    "    loaded_data = pickle.load(file)\n",
    "    true_class_pre  = loaded_data  \n"
   ]
  },
  {
   "cell_type": "code",
   "execution_count": 4,
   "id": "7989e64b",
   "metadata": {},
   "outputs": [],
   "source": [
    "class_pred1 = np.argmax(pred1_eng, axis=1)\n",
    "class_pred2 = np.argmax(pred2_eng, axis=1)"
   ]
  },
  {
   "cell_type": "code",
   "execution_count": 7,
   "id": "288c1dba",
   "metadata": {},
   "outputs": [
    {
     "name": "stdout",
     "output_type": "stream",
     "text": [
      "[[213418.   3338.]\n",
      " [  4925. 215102.]]\n",
      "4925.0\n",
      "3338.0\n",
      "p-value is 6.958562863732718e-69\n"
     ]
    }
   ],
   "source": [
    "# Define table as a 2x2 numpy array\n",
    "from scipy.stats import binom\n",
    "table = np.zeros((2,2))\n",
    "\n",
    "\n",
    "# Compute elements of table\n",
    "\n",
    "# both classifiers are correct\n",
    "table[0][0] = np.sum((class_pred1 == true_class ) & (class_pred2 == true_class))\n",
    "# classifier 1 is correct but classifier 2 is not\n",
    "table[0][1] = np.sum((class_pred1 == true_class ) & (class_pred2 != true_class))\n",
    "#  classifier 2 is correct but classifier 1 is not\n",
    "table[1][0] = np.sum((class_pred1 != true_class ) & (class_pred2 == true_class))\n",
    "# both classifiers are incorrect\n",
    "table[1][1] = np.sum((class_pred1 != true_class ) & (class_pred2 != true_class))\n",
    "print(table)\n",
    "\n",
    "# Extract false positives and true negatives values \n",
    "N_2_1 = table[1][0]\n",
    "print(N_2_1)\n",
    "N_1_2 = table[0][1]\n",
    "print(N_1_2)\n",
    "\n",
    "# Computing number of times one classifier only was correct\n",
    "N = N_1_2 + N_2_1\n",
    "\n",
    "# Define binomial random variable\n",
    "b = binom(N, 0.5)\n",
    "\n",
    "\n",
    "# Compute p-value\n",
    "pval =  b.cdf(min(N_1_2,N_2_1)) + (1-b.cdf(max(N_1_2,N_2_1)-1)) \n",
    "print('p-value is', pval)"
   ]
  },
  {
   "cell_type": "code",
   "execution_count": null,
   "id": "5e9ecef0",
   "metadata": {},
   "outputs": [],
   "source": []
  }
 ],
 "metadata": {
  "kernelspec": {
   "display_name": "Python 3 (ipykernel)",
   "language": "python",
   "name": "python3"
  },
  "language_info": {
   "codemirror_mode": {
    "name": "ipython",
    "version": 3
   },
   "file_extension": ".py",
   "mimetype": "text/x-python",
   "name": "python",
   "nbconvert_exporter": "python",
   "pygments_lexer": "ipython3",
   "version": "3.10.9"
  }
 },
 "nbformat": 4,
 "nbformat_minor": 5
}
