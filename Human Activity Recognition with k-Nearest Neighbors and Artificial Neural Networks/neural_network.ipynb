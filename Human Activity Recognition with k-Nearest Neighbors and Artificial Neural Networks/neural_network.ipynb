{
 "cells": [
  {
   "cell_type": "code",
   "execution_count": 1,
   "id": "0d9f4836",
   "metadata": {},
   "outputs": [
    {
     "name": "stdout",
     "output_type": "stream",
     "text": [
      "WARNING:tensorflow:From C:\\Users\\Benedetta\\anaconda3\\lib\\site-packages\\keras\\src\\losses.py:2976: The name tf.losses.sparse_softmax_cross_entropy is deprecated. Please use tf.compat.v1.losses.sparse_softmax_cross_entropy instead.\n",
      "\n"
     ]
    },
    {
     "ename": "ModuleNotFoundError",
     "evalue": "No module named 'utils'",
     "output_type": "error",
     "traceback": [
      "\u001b[1;31m---------------------------------------------------------------------------\u001b[0m",
      "\u001b[1;31mModuleNotFoundError\u001b[0m                       Traceback (most recent call last)",
      "Cell \u001b[1;32mIn[1], line 21\u001b[0m\n\u001b[0;32m     18\u001b[0m \u001b[38;5;28;01mimport\u001b[39;00m \u001b[38;5;21;01mpickle\u001b[39;00m\n\u001b[0;32m     20\u001b[0m \u001b[38;5;28;01mimport\u001b[39;00m \u001b[38;5;21;01mseaborn\u001b[39;00m \u001b[38;5;28;01mas\u001b[39;00m \u001b[38;5;21;01msns\u001b[39;00m\n\u001b[1;32m---> 21\u001b[0m \u001b[38;5;28;01mfrom\u001b[39;00m \u001b[38;5;21;01mutils\u001b[39;00m \u001b[38;5;28;01mimport\u001b[39;00m timeseries_visualization, load_data, visualize_hist_and_boxplot, visualize_pca\n\u001b[0;32m     22\u001b[0m np\u001b[38;5;241m.\u001b[39mrandom\u001b[38;5;241m.\u001b[39mseed(\u001b[38;5;241m1\u001b[39m)\n\u001b[0;32m     23\u001b[0m random\u001b[38;5;241m.\u001b[39mseed(\u001b[38;5;241m1\u001b[39m)\n",
      "\u001b[1;31mModuleNotFoundError\u001b[0m: No module named 'utils'"
     ]
    }
   ],
   "source": [
    "import pandas as pd\n",
    "import numpy as np\n",
    "import seaborn as sns\n",
    "import matplotlib.pyplot as plt\n",
    "import random\n",
    "from sklearn.decomposition import PCA\n",
    "from sklearn.preprocessing import StandardScaler\n",
    "from sklearn.metrics import accuracy_score, f1_score, roc_auc_score, confusion_matrix\n",
    "from sklearn.model_selection import GridSearchCV\n",
    "from sklearn.model_selection import train_test_split\n",
    "from sklearn.model_selection import StratifiedKFold\n",
    "from sklearn.model_selection import cross_val_score\n",
    "from sklearn.neighbors import KNeighborsClassifier\n",
    "from sklearn.tree import DecisionTreeClassifier\n",
    "from sklearn.metrics import confusion_matrix\n",
    "import tensorflow as tf\n",
    "from tensorflow import keras\n",
    "import pickle\n",
    "\n",
    "import seaborn as sns\n",
    "from utils import timeseries_visualization, load_data, visualize_hist_and_boxplot, visualize_pca\n",
    "np.random.seed(1)\n",
    "random.seed(1)\n"
   ]
  },
  {
   "cell_type": "code",
   "execution_count": 2,
   "id": "b488c5a1",
   "metadata": {},
   "outputs": [],
   "source": [
    "# Load data and compute lagged features\n",
    "df_lagged = load_data(lagged=True, exclude_ids=True)\n",
    "# Dropping NaN values\n",
    "df_lagged = df_lagged.dropna()\n",
    "#df_lagged\n"
   ]
  },
  {
   "cell_type": "code",
   "execution_count": 3,
   "id": "fe468857",
   "metadata": {},
   "outputs": [],
   "source": [
    "# Remove from the data records with labels being 3,4 and 5\n",
    "\n",
    "df_lagged = df_lagged[~df_lagged['label'].isin([3, 4, 5])]\n",
    "\n"
   ]
  },
  {
   "cell_type": "code",
   "execution_count": 4,
   "id": "5bf7ee71",
   "metadata": {},
   "outputs": [],
   "source": [
    "# Initialize the StandardScaler\n",
    "scaler = StandardScaler()\n",
    "\n",
    "# Normalize the numerical columns (excluding the 'subject_id' column)\n",
    "#numerical_columns = [col for col in df_lagged.columns if col != 'subject_id' and col!='label' and col!='timestamp']\n",
    "#df_lagged[numerical_columns] = scaler.fit_transform(df_lagged[numerical_columns])\n",
    "\n",
    "\n",
    "numerical_columns = [col for col in df_lagged.columns if col != 'subject_id' and col!='label' and col!='timestamp']\n",
    "df_lagged[numerical_columns] = scaler.fit_transform(df_lagged[numerical_columns])\n",
    "\n",
    "\n"
   ]
  },
  {
   "cell_type": "code",
   "execution_count": 5,
   "id": "0abc0e1a",
   "metadata": {},
   "outputs": [
    {
     "name": "stdout",
     "output_type": "stream",
     "text": [
      "(436783, 11)\n"
     ]
    }
   ],
   "source": [
    "\n",
    "# Assuming df is your dataframe containing the data\n",
    "\n",
    "pca = PCA(n_components=11)\n",
    "exclude_columns = ['timestamp', 'subject_id', 'label']\n",
    "df_lagged_PC = df_lagged.drop(exclude_columns, axis=1)\n",
    "components = pca.fit_transform(df_lagged_PC)\n",
    "labels = {\n",
    "    str(i): f\"PC {i+1} ({var:.1f}%)\"\n",
    "    for i, var in enumerate(pca.explained_variance_ratio_ * 100)\n",
    "}\n",
    "\n",
    "\n",
    "lr_values = [0.1]\n",
    "exclude_columns = ['timestamp', 'subject_id', 'label']\n",
    "\n",
    "X = components\n",
    "y = df_lagged['label'].values\n",
    "\n",
    "# Split the data into training and test sets\n",
    "X_train, X_test, y_train, y_test = train_test_split(X, y, test_size=0.2, random_state = 1)\n",
    "print(X_test.shape)\n",
    "\n",
    "# Split the data into training and test sets\n",
    "X_train, X_val, y_train, y_val = train_test_split(X_train, y_train, test_size=0.2)"
   ]
  },
  {
   "cell_type": "code",
   "execution_count": 6,
   "id": "679361a3",
   "metadata": {},
   "outputs": [
    {
     "name": "stdout",
     "output_type": "stream",
     "text": [
      "(436783, 11)\n"
     ]
    }
   ],
   "source": [
    "print(X_test.shape)"
   ]
  },
  {
   "cell_type": "code",
   "execution_count": 7,
   "id": "c1df68ba",
   "metadata": {},
   "outputs": [],
   "source": [
    "from keras.utils import to_categorical\n",
    "\n",
    "# Map labels to one-hot encoding\n",
    "label_mapping = {1: 0, 6: 1, 7: 2, 8: 3}\n",
    "\n",
    "\n",
    "\n",
    "\n",
    "y_train_one_hot= np.array([label_mapping[label] for label in y_train])\n",
    "y_train_one_hot = to_categorical(y_train_one_hot, num_classes=4)  # 4 classes (0, 1, 2, 3) for one-hot encoding\n",
    "\n",
    "y_test_one_hot= np.array([label_mapping[label] for label in y_test])\n",
    "y_test_one_hot = to_categorical(y_test_one_hot, num_classes=4)  # 4 classes (0, 1, 2, 3) for one-hot encoding\n",
    "\n",
    "\n",
    "y_val_one_hot = np.array([label_mapping[label] for label in y_val])\n",
    "y_val_one_hot = to_categorical(y_val_one_hot, num_classes=4)  # 4 classes (0, 1, 2, 3) for one-hot encoding\n",
    "\n",
    "val_min_hypertune = {}\n",
    "train_min_hypertune = {}\n",
    "config_models = []\n",
    "\n",
    "\n",
    "n_epochs = 30\n",
    "\n",
    "# Reshape the data to match the input shape of the RNN\n",
    "X_train = X_train.reshape(X_train.shape[0], X_train.shape[1], 1)\n",
    "X_val = X_val.reshape(X_val.shape[0], X_val.shape[1], 1)\n"
   ]
  },
  {
   "cell_type": "code",
   "execution_count": 11,
   "id": "78c3bf26",
   "metadata": {},
   "outputs": [
    {
     "name": "stdout",
     "output_type": "stream",
     "text": [
      "Epoch 1/30\n",
      "43641/43679 [============================>.] - ETA: 0s - loss: 0.0955INFO:tensorflow:Assets written to: RNN_eng1.ckpt\\assets\n"
     ]
    },
    {
     "name": "stderr",
     "output_type": "stream",
     "text": [
      "INFO:tensorflow:Assets written to: RNN_eng1.ckpt\\assets\n"
     ]
    },
    {
     "name": "stdout",
     "output_type": "stream",
     "text": [
      "43679/43679 [==============================] - 66s 1ms/step - loss: 0.0955 - val_loss: 0.0782\n",
      "Epoch 2/30\n",
      "43643/43679 [============================>.] - ETA: 0s - loss: 0.0751INFO:tensorflow:Assets written to: RNN_eng1.ckpt\\assets\n"
     ]
    },
    {
     "name": "stderr",
     "output_type": "stream",
     "text": [
      "INFO:tensorflow:Assets written to: RNN_eng1.ckpt\\assets\n"
     ]
    },
    {
     "name": "stdout",
     "output_type": "stream",
     "text": [
      "43679/43679 [==============================] - 65s 1ms/step - loss: 0.0751 - val_loss: 0.0725\n",
      "Epoch 3/30\n",
      "43677/43679 [============================>.] - ETA: 0s - loss: 0.0710INFO:tensorflow:Assets written to: RNN_eng1.ckpt\\assets\n"
     ]
    },
    {
     "name": "stderr",
     "output_type": "stream",
     "text": [
      "INFO:tensorflow:Assets written to: RNN_eng1.ckpt\\assets\n"
     ]
    },
    {
     "name": "stdout",
     "output_type": "stream",
     "text": [
      "43679/43679 [==============================] - 65s 1ms/step - loss: 0.0710 - val_loss: 0.0703\n",
      "Epoch 4/30\n",
      "43677/43679 [============================>.] - ETA: 0s - loss: 0.0690INFO:tensorflow:Assets written to: RNN_eng1.ckpt\\assets\n"
     ]
    },
    {
     "name": "stderr",
     "output_type": "stream",
     "text": [
      "INFO:tensorflow:Assets written to: RNN_eng1.ckpt\\assets\n"
     ]
    },
    {
     "name": "stdout",
     "output_type": "stream",
     "text": [
      "43679/43679 [==============================] - 65s 1ms/step - loss: 0.0690 - val_loss: 0.0694\n",
      "Epoch 5/30\n",
      "43671/43679 [============================>.] - ETA: 0s - loss: 0.0677INFO:tensorflow:Assets written to: RNN_eng1.ckpt\\assets\n"
     ]
    },
    {
     "name": "stderr",
     "output_type": "stream",
     "text": [
      "INFO:tensorflow:Assets written to: RNN_eng1.ckpt\\assets\n"
     ]
    },
    {
     "name": "stdout",
     "output_type": "stream",
     "text": [
      "43679/43679 [==============================] - 66s 2ms/step - loss: 0.0676 - val_loss: 0.0693\n",
      "Epoch 6/30\n",
      "43679/43679 [==============================] - 65s 1ms/step - loss: 0.0667 - val_loss: 0.0694\n",
      "Epoch 7/30\n",
      "43648/43679 [============================>.] - ETA: 0s - loss: 0.0658INFO:tensorflow:Assets written to: RNN_eng1.ckpt\\assets\n"
     ]
    },
    {
     "name": "stderr",
     "output_type": "stream",
     "text": [
      "INFO:tensorflow:Assets written to: RNN_eng1.ckpt\\assets\n"
     ]
    },
    {
     "name": "stdout",
     "output_type": "stream",
     "text": [
      "43679/43679 [==============================] - 65s 1ms/step - loss: 0.0658 - val_loss: 0.0678\n",
      "Epoch 8/30\n",
      "43679/43679 [==============================] - 64s 1ms/step - loss: 0.0651 - val_loss: 0.0682\n",
      "Epoch 9/30\n",
      "43679/43679 [==============================] - 64s 1ms/step - loss: 0.0646 - val_loss: 0.0682\n",
      "Epoch 10/30\n",
      "43667/43679 [============================>.] - ETA: 0s - loss: 0.0641INFO:tensorflow:Assets written to: RNN_eng1.ckpt\\assets\n"
     ]
    },
    {
     "name": "stderr",
     "output_type": "stream",
     "text": [
      "INFO:tensorflow:Assets written to: RNN_eng1.ckpt\\assets\n"
     ]
    },
    {
     "name": "stdout",
     "output_type": "stream",
     "text": [
      "43679/43679 [==============================] - 65s 1ms/step - loss: 0.0641 - val_loss: 0.0661\n",
      "Epoch 11/30\n",
      "43653/43679 [============================>.] - ETA: 0s - loss: 0.0637INFO:tensorflow:Assets written to: RNN_eng1.ckpt\\assets\n"
     ]
    },
    {
     "name": "stderr",
     "output_type": "stream",
     "text": [
      "INFO:tensorflow:Assets written to: RNN_eng1.ckpt\\assets\n"
     ]
    },
    {
     "name": "stdout",
     "output_type": "stream",
     "text": [
      "43679/43679 [==============================] - 65s 1ms/step - loss: 0.0637 - val_loss: 0.0653\n",
      "Epoch 12/30\n",
      "43679/43679 [==============================] - 65s 1ms/step - loss: 0.0634 - val_loss: 0.0662\n",
      "Epoch 13/30\n",
      "43679/43679 [==============================] - 64s 1ms/step - loss: 0.0630 - val_loss: 0.0662\n",
      "Epoch 14/30\n",
      "43667/43679 [============================>.] - ETA: 0s - loss: 0.0629INFO:tensorflow:Assets written to: RNN_eng1.ckpt\\assets\n"
     ]
    },
    {
     "name": "stderr",
     "output_type": "stream",
     "text": [
      "INFO:tensorflow:Assets written to: RNN_eng1.ckpt\\assets\n"
     ]
    },
    {
     "name": "stdout",
     "output_type": "stream",
     "text": [
      "43679/43679 [==============================] - 68s 2ms/step - loss: 0.0629 - val_loss: 0.0650\n",
      "Epoch 15/30\n",
      "43662/43679 [============================>.] - ETA: 0s - loss: 0.0625INFO:tensorflow:Assets written to: RNN_eng1.ckpt\\assets\n"
     ]
    },
    {
     "name": "stderr",
     "output_type": "stream",
     "text": [
      "INFO:tensorflow:Assets written to: RNN_eng1.ckpt\\assets\n"
     ]
    },
    {
     "name": "stdout",
     "output_type": "stream",
     "text": [
      "43679/43679 [==============================] - 67s 2ms/step - loss: 0.0625 - val_loss: 0.0639\n",
      "Epoch 16/30\n",
      "43679/43679 [==============================] - 65s 1ms/step - loss: 0.0622 - val_loss: 0.0660\n",
      "Epoch 17/30\n",
      "43679/43679 [==============================] - 64s 1ms/step - loss: 0.0622 - val_loss: 0.0644\n",
      "Epoch 18/30\n",
      "43679/43679 [==============================] - 64s 1ms/step - loss: 0.0619 - val_loss: 0.0665\n",
      "Epoch 19/30\n",
      "43646/43679 [============================>.] - ETA: 0s - loss: 0.0617INFO:tensorflow:Assets written to: RNN_eng1.ckpt\\assets\n"
     ]
    },
    {
     "name": "stderr",
     "output_type": "stream",
     "text": [
      "INFO:tensorflow:Assets written to: RNN_eng1.ckpt\\assets\n"
     ]
    },
    {
     "name": "stdout",
     "output_type": "stream",
     "text": [
      "43679/43679 [==============================] - 64s 1ms/step - loss: 0.0617 - val_loss: 0.0638\n",
      "Epoch 20/30\n",
      "43679/43679 [==============================] - 64s 1ms/step - loss: 0.0616 - val_loss: 0.0645\n",
      "Epoch 21/30\n",
      "43679/43679 [==============================] - 64s 1ms/step - loss: 0.0614 - val_loss: 0.0648\n",
      "Epoch 22/30\n",
      "43679/43679 [==============================] - 64s 1ms/step - loss: 0.0612 - val_loss: 0.0654\n",
      "Epoch 23/30\n",
      "43679/43679 [==============================] - 64s 1ms/step - loss: 0.0613 - val_loss: 0.0644\n",
      "Epoch 24/30\n",
      "43679/43679 [==============================] - 64s 1ms/step - loss: 0.0611 - val_loss: 0.0651\n",
      "Epoch 25/30\n",
      "43650/43679 [============================>.] - ETA: 0s - loss: 0.0610INFO:tensorflow:Assets written to: RNN_eng1.ckpt\\assets\n"
     ]
    },
    {
     "name": "stderr",
     "output_type": "stream",
     "text": [
      "INFO:tensorflow:Assets written to: RNN_eng1.ckpt\\assets\n"
     ]
    },
    {
     "name": "stdout",
     "output_type": "stream",
     "text": [
      "43679/43679 [==============================] - 65s 1ms/step - loss: 0.0610 - val_loss: 0.0630\n",
      "Epoch 26/30\n",
      "43679/43679 [==============================] - 64s 1ms/step - loss: 0.0608 - val_loss: 0.0635\n",
      "Epoch 27/30\n",
      "43679/43679 [==============================] - 65s 1ms/step - loss: 0.0608 - val_loss: 0.0639\n",
      "Epoch 28/30\n",
      "43679/43679 [==============================] - 64s 1ms/step - loss: 0.0608 - val_loss: 0.0642\n",
      "Epoch 29/30\n",
      "43679/43679 [==============================] - 64s 1ms/step - loss: 0.0605 - val_loss: 0.0637\n",
      "Epoch 30/30\n",
      "43679/43679 [==============================] - 64s 1ms/step - loss: 0.0605 - val_loss: 0.0652\n",
      "Epoch 1/30\n",
      "43666/43679 [============================>.] - ETA: 0s - loss: 0.0910INFO:tensorflow:Assets written to: RNN_eng2.ckpt\\assets\n"
     ]
    },
    {
     "name": "stderr",
     "output_type": "stream",
     "text": [
      "INFO:tensorflow:Assets written to: RNN_eng2.ckpt\\assets\n"
     ]
    },
    {
     "name": "stdout",
     "output_type": "stream",
     "text": [
      "43679/43679 [==============================] - 69s 2ms/step - loss: 0.0910 - val_loss: 0.0874\n",
      "Epoch 2/30\n",
      "43674/43679 [============================>.] - ETA: 0s - loss: 0.0726INFO:tensorflow:Assets written to: RNN_eng2.ckpt\\assets\n"
     ]
    },
    {
     "name": "stderr",
     "output_type": "stream",
     "text": [
      "INFO:tensorflow:Assets written to: RNN_eng2.ckpt\\assets\n"
     ]
    },
    {
     "name": "stdout",
     "output_type": "stream",
     "text": [
      "43679/43679 [==============================] - 69s 2ms/step - loss: 0.0726 - val_loss: 0.0708\n",
      "Epoch 3/30\n",
      "43652/43679 [============================>.] - ETA: 0s - loss: 0.0689INFO:tensorflow:Assets written to: RNN_eng2.ckpt\\assets\n"
     ]
    },
    {
     "name": "stderr",
     "output_type": "stream",
     "text": [
      "INFO:tensorflow:Assets written to: RNN_eng2.ckpt\\assets\n"
     ]
    },
    {
     "name": "stdout",
     "output_type": "stream",
     "text": [
      "43679/43679 [==============================] - 71s 2ms/step - loss: 0.0689 - val_loss: 0.0698\n",
      "Epoch 4/30\n",
      "43658/43679 [============================>.] - ETA: 0s - loss: 0.0670INFO:tensorflow:Assets written to: RNN_eng2.ckpt\\assets\n"
     ]
    },
    {
     "name": "stderr",
     "output_type": "stream",
     "text": [
      "INFO:tensorflow:Assets written to: RNN_eng2.ckpt\\assets\n"
     ]
    },
    {
     "name": "stdout",
     "output_type": "stream",
     "text": [
      "43679/43679 [==============================] - 65s 1ms/step - loss: 0.0670 - val_loss: 0.0676\n",
      "Epoch 5/30\n",
      "43669/43679 [============================>.] - ETA: 0s - loss: 0.0655INFO:tensorflow:Assets written to: RNN_eng2.ckpt\\assets\n"
     ]
    },
    {
     "name": "stderr",
     "output_type": "stream",
     "text": [
      "INFO:tensorflow:Assets written to: RNN_eng2.ckpt\\assets\n"
     ]
    },
    {
     "name": "stdout",
     "output_type": "stream",
     "text": [
      "43679/43679 [==============================] - 65s 1ms/step - loss: 0.0655 - val_loss: 0.0672\n",
      "Epoch 6/30\n",
      "43660/43679 [============================>.] - ETA: 0s - loss: 0.0646INFO:tensorflow:Assets written to: RNN_eng2.ckpt\\assets\n"
     ]
    },
    {
     "name": "stderr",
     "output_type": "stream",
     "text": [
      "INFO:tensorflow:Assets written to: RNN_eng2.ckpt\\assets\n"
     ]
    },
    {
     "name": "stdout",
     "output_type": "stream",
     "text": [
      "43679/43679 [==============================] - 65s 1ms/step - loss: 0.0646 - val_loss: 0.0654\n",
      "Epoch 7/30\n",
      "43679/43679 [==============================] - 65s 1ms/step - loss: 0.0638 - val_loss: 0.0656\n",
      "Epoch 8/30\n",
      "43679/43679 [==============================] - 64s 1ms/step - loss: 0.0633 - val_loss: 0.0655\n",
      "Epoch 9/30\n",
      "43679/43679 [==============================] - 64s 1ms/step - loss: 0.0629 - val_loss: 0.0674\n",
      "Epoch 10/30\n",
      "43653/43679 [============================>.] - ETA: 0s - loss: 0.0626INFO:tensorflow:Assets written to: RNN_eng2.ckpt\\assets\n"
     ]
    },
    {
     "name": "stderr",
     "output_type": "stream",
     "text": [
      "INFO:tensorflow:Assets written to: RNN_eng2.ckpt\\assets\n"
     ]
    },
    {
     "name": "stdout",
     "output_type": "stream",
     "text": [
      "43679/43679 [==============================] - 65s 1ms/step - loss: 0.0626 - val_loss: 0.0652\n",
      "Epoch 11/30\n",
      "43677/43679 [============================>.] - ETA: 0s - loss: 0.0622INFO:tensorflow:Assets written to: RNN_eng2.ckpt\\assets\n"
     ]
    },
    {
     "name": "stderr",
     "output_type": "stream",
     "text": [
      "INFO:tensorflow:Assets written to: RNN_eng2.ckpt\\assets\n"
     ]
    },
    {
     "name": "stdout",
     "output_type": "stream",
     "text": [
      "43679/43679 [==============================] - 67s 2ms/step - loss: 0.0622 - val_loss: 0.0644\n",
      "Epoch 12/30\n",
      "43679/43679 [==============================] - 66s 2ms/step - loss: 0.0622 - val_loss: 0.0652\n",
      "Epoch 13/30\n",
      "43679/43679 [==============================] - 64s 1ms/step - loss: 0.0620 - val_loss: 0.0655\n",
      "Epoch 14/30\n",
      "43679/43679 [==============================] - 64s 1ms/step - loss: 0.0619 - val_loss: 0.0648\n",
      "Epoch 15/30\n",
      "43679/43679 [==============================] - 65s 1ms/step - loss: 0.0620 - val_loss: 0.0649\n",
      "Epoch 16/30\n",
      "43677/43679 [============================>.] - ETA: 0s - loss: 0.0619INFO:tensorflow:Assets written to: RNN_eng2.ckpt\\assets\n"
     ]
    },
    {
     "name": "stderr",
     "output_type": "stream",
     "text": [
      "INFO:tensorflow:Assets written to: RNN_eng2.ckpt\\assets\n"
     ]
    },
    {
     "name": "stdout",
     "output_type": "stream",
     "text": [
      "43679/43679 [==============================] - 65s 1ms/step - loss: 0.0619 - val_loss: 0.0639\n",
      "Epoch 17/30\n",
      "43679/43679 [==============================] - 67s 2ms/step - loss: 0.0615 - val_loss: 0.0650\n",
      "Epoch 18/30\n",
      "43679/43679 [==============================] - 68s 2ms/step - loss: 0.0616 - val_loss: 0.0667\n",
      "Epoch 19/30\n",
      "43679/43679 [==============================] - 69s 2ms/step - loss: 0.0617 - val_loss: 0.0658\n",
      "Epoch 20/30\n",
      "43679/43679 [==============================] - 69s 2ms/step - loss: 0.0616 - val_loss: 0.0666\n",
      "Epoch 21/30\n",
      "43679/43679 [==============================] - 69s 2ms/step - loss: 0.0616 - val_loss: 0.0659\n",
      "Epoch 22/30\n",
      "43679/43679 [==============================] - 69s 2ms/step - loss: 0.0624 - val_loss: 0.0640\n",
      "Epoch 23/30\n",
      "43679/43679 [==============================] - 69s 2ms/step - loss: 0.0619 - val_loss: 0.0653\n",
      "Epoch 24/30\n",
      "43679/43679 [==============================] - 69s 2ms/step - loss: 0.0617 - val_loss: 0.0691\n",
      "Epoch 25/30\n",
      "43679/43679 [==============================] - 69s 2ms/step - loss: 0.0622 - val_loss: 0.0690\n",
      "Epoch 26/30\n",
      "43679/43679 [==============================] - 68s 2ms/step - loss: 0.0622 - val_loss: 0.0642\n",
      "Epoch 27/30\n",
      "43679/43679 [==============================] - 69s 2ms/step - loss: 0.0626 - val_loss: 0.0672\n",
      "Epoch 28/30\n",
      "43679/43679 [==============================] - 69s 2ms/step - loss: 0.0623 - val_loss: 0.0645\n",
      "Epoch 29/30\n",
      "43679/43679 [==============================] - 69s 2ms/step - loss: 0.0621 - val_loss: 0.0652\n",
      "Epoch 30/30\n",
      "43679/43679 [==============================] - 69s 2ms/step - loss: 0.0623 - val_loss: 0.0643\n",
      "Epoch 1/30\n",
      "43649/43679 [============================>.] - ETA: 0s - loss: 0.0902INFO:tensorflow:Assets written to: RNN_eng3.ckpt\\assets\n"
     ]
    },
    {
     "name": "stderr",
     "output_type": "stream",
     "text": [
      "INFO:tensorflow:Assets written to: RNN_eng3.ckpt\\assets\n"
     ]
    },
    {
     "name": "stdout",
     "output_type": "stream",
     "text": [
      "43679/43679 [==============================] - 74s 2ms/step - loss: 0.0902 - val_loss: 0.0751\n",
      "Epoch 2/30\n",
      "43679/43679 [==============================] - ETA: 0s - loss: 0.0733INFO:tensorflow:Assets written to: RNN_eng3.ckpt\\assets\n"
     ]
    },
    {
     "name": "stderr",
     "output_type": "stream",
     "text": [
      "INFO:tensorflow:Assets written to: RNN_eng3.ckpt\\assets\n"
     ]
    },
    {
     "name": "stdout",
     "output_type": "stream",
     "text": [
      "43679/43679 [==============================] - 73s 2ms/step - loss: 0.0733 - val_loss: 0.0725\n",
      "Epoch 3/30\n",
      "43648/43679 [============================>.] - ETA: 0s - loss: 0.0700INFO:tensorflow:Assets written to: RNN_eng3.ckpt\\assets\n"
     ]
    },
    {
     "name": "stderr",
     "output_type": "stream",
     "text": [
      "INFO:tensorflow:Assets written to: RNN_eng3.ckpt\\assets\n"
     ]
    },
    {
     "name": "stdout",
     "output_type": "stream",
     "text": [
      "43679/43679 [==============================] - 73s 2ms/step - loss: 0.0700 - val_loss: 0.0711\n",
      "Epoch 4/30\n",
      "43679/43679 [==============================] - ETA: 0s - loss: 0.0685INFO:tensorflow:Assets written to: RNN_eng3.ckpt\\assets\n"
     ]
    },
    {
     "name": "stderr",
     "output_type": "stream",
     "text": [
      "INFO:tensorflow:Assets written to: RNN_eng3.ckpt\\assets\n"
     ]
    },
    {
     "name": "stdout",
     "output_type": "stream",
     "text": [
      "43679/43679 [==============================] - 73s 2ms/step - loss: 0.0685 - val_loss: 0.0696\n",
      "Epoch 5/30\n",
      "43646/43679 [============================>.] - ETA: 0s - loss: 0.0672INFO:tensorflow:Assets written to: RNN_eng3.ckpt\\assets\n"
     ]
    },
    {
     "name": "stderr",
     "output_type": "stream",
     "text": [
      "INFO:tensorflow:Assets written to: RNN_eng3.ckpt\\assets\n"
     ]
    },
    {
     "name": "stdout",
     "output_type": "stream",
     "text": [
      "43679/43679 [==============================] - 73s 2ms/step - loss: 0.0672 - val_loss: 0.0672\n",
      "Epoch 6/30\n",
      "43679/43679 [==============================] - 72s 2ms/step - loss: 0.0666 - val_loss: 0.0697\n",
      "Epoch 7/30\n",
      "43677/43679 [============================>.] - ETA: 0s - loss: 0.0658INFO:tensorflow:Assets written to: RNN_eng3.ckpt\\assets\n"
     ]
    },
    {
     "name": "stderr",
     "output_type": "stream",
     "text": [
      "INFO:tensorflow:Assets written to: RNN_eng3.ckpt\\assets\n"
     ]
    },
    {
     "name": "stdout",
     "output_type": "stream",
     "text": [
      "43679/43679 [==============================] - 72s 2ms/step - loss: 0.0658 - val_loss: 0.0668\n",
      "Epoch 8/30\n",
      "43669/43679 [============================>.] - ETA: 0s - loss: 0.0654INFO:tensorflow:Assets written to: RNN_eng3.ckpt\\assets\n"
     ]
    },
    {
     "name": "stderr",
     "output_type": "stream",
     "text": [
      "INFO:tensorflow:Assets written to: RNN_eng3.ckpt\\assets\n"
     ]
    },
    {
     "name": "stdout",
     "output_type": "stream",
     "text": [
      "43679/43679 [==============================] - 73s 2ms/step - loss: 0.0654 - val_loss: 0.0658\n",
      "Epoch 9/30\n",
      "43679/43679 [==============================] - 72s 2ms/step - loss: 0.0647 - val_loss: 0.0669\n",
      "Epoch 10/30\n",
      "43679/43679 [==============================] - 72s 2ms/step - loss: 0.0648 - val_loss: 0.0673\n",
      "Epoch 11/30\n",
      "43679/43679 [==============================] - 72s 2ms/step - loss: 0.0644 - val_loss: 0.0666\n",
      "Epoch 12/30\n",
      "43679/43679 [==============================] - 73s 2ms/step - loss: 0.0649 - val_loss: 0.0711\n",
      "Epoch 13/30\n",
      "43668/43679 [============================>.] - ETA: 0s - loss: 0.0643INFO:tensorflow:Assets written to: RNN_eng3.ckpt\\assets\n"
     ]
    },
    {
     "name": "stderr",
     "output_type": "stream",
     "text": [
      "INFO:tensorflow:Assets written to: RNN_eng3.ckpt\\assets\n"
     ]
    },
    {
     "name": "stdout",
     "output_type": "stream",
     "text": [
      "43679/43679 [==============================] - 73s 2ms/step - loss: 0.0643 - val_loss: 0.0649\n",
      "Epoch 14/30\n",
      "43679/43679 [==============================] - 72s 2ms/step - loss: 0.0641 - val_loss: 0.0684\n",
      "Epoch 15/30\n",
      "43679/43679 [==============================] - 72s 2ms/step - loss: 0.0649 - val_loss: 0.0709\n",
      "Epoch 16/30\n",
      "43679/43679 [==============================] - 72s 2ms/step - loss: 0.0653 - val_loss: 0.0679\n",
      "Epoch 17/30\n",
      "43679/43679 [==============================] - 72s 2ms/step - loss: 0.0644 - val_loss: 0.0682\n",
      "Epoch 18/30\n",
      "43665/43679 [============================>.] - ETA: 0s - loss: 0.0655INFO:tensorflow:Assets written to: RNN_eng3.ckpt\\assets\n"
     ]
    },
    {
     "name": "stderr",
     "output_type": "stream",
     "text": [
      "INFO:tensorflow:Assets written to: RNN_eng3.ckpt\\assets\n"
     ]
    },
    {
     "name": "stdout",
     "output_type": "stream",
     "text": [
      "43679/43679 [==============================] - 73s 2ms/step - loss: 0.0655 - val_loss: 0.0642\n",
      "Epoch 19/30\n",
      "43679/43679 [==============================] - 72s 2ms/step - loss: 0.0641 - val_loss: 0.0663\n",
      "Epoch 20/30\n",
      "43679/43679 [==============================] - 73s 2ms/step - loss: 0.0652 - val_loss: 0.0694\n",
      "Epoch 21/30\n",
      "43679/43679 [==============================] - 73s 2ms/step - loss: 0.0665 - val_loss: 0.0755\n",
      "Epoch 22/30\n",
      "43679/43679 [==============================] - 73s 2ms/step - loss: 0.0660 - val_loss: 0.0782\n",
      "Epoch 23/30\n",
      "43679/43679 [==============================] - 74s 2ms/step - loss: 0.0688 - val_loss: 0.0754\n",
      "Epoch 24/30\n",
      "43679/43679 [==============================] - 71s 2ms/step - loss: 0.0656 - val_loss: 0.0715\n",
      "Epoch 25/30\n",
      "43679/43679 [==============================] - 72s 2ms/step - loss: 0.0682 - val_loss: 0.0687\n",
      "Epoch 26/30\n",
      "43679/43679 [==============================] - 74s 2ms/step - loss: 0.0681 - val_loss: 0.0731\n",
      "Epoch 27/30\n",
      "43679/43679 [==============================] - 73s 2ms/step - loss: 0.0685 - val_loss: 0.0676\n",
      "Epoch 28/30\n",
      "43679/43679 [==============================] - 73s 2ms/step - loss: 0.0663 - val_loss: 0.0668\n",
      "Epoch 29/30\n",
      "43679/43679 [==============================] - 73s 2ms/step - loss: 0.0694 - val_loss: 0.0776\n",
      "Epoch 30/30\n",
      "43679/43679 [==============================] - 73s 2ms/step - loss: 0.0708 - val_loss: 0.0702\n",
      "Epoch 1/30\n",
      "43662/43679 [============================>.] - ETA: 0s - loss: 0.0891INFO:tensorflow:Assets written to: RNN_eng4.ckpt\\assets\n"
     ]
    },
    {
     "name": "stderr",
     "output_type": "stream",
     "text": [
      "INFO:tensorflow:Assets written to: RNN_eng4.ckpt\\assets\n"
     ]
    },
    {
     "name": "stdout",
     "output_type": "stream",
     "text": [
      "43679/43679 [==============================] - 70s 2ms/step - loss: 0.0891 - val_loss: 0.0754\n",
      "Epoch 2/30\n",
      "43677/43679 [============================>.] - ETA: 0s - loss: 0.0713INFO:tensorflow:Assets written to: RNN_eng4.ckpt\\assets\n"
     ]
    },
    {
     "name": "stderr",
     "output_type": "stream",
     "text": [
      "INFO:tensorflow:Assets written to: RNN_eng4.ckpt\\assets\n"
     ]
    },
    {
     "name": "stdout",
     "output_type": "stream",
     "text": [
      "43679/43679 [==============================] - 67s 2ms/step - loss: 0.0713 - val_loss: 0.0704\n",
      "Epoch 3/30\n",
      "43673/43679 [============================>.] - ETA: 0s - loss: 0.0679INFO:tensorflow:Assets written to: RNN_eng4.ckpt\\assets\n"
     ]
    },
    {
     "name": "stderr",
     "output_type": "stream",
     "text": [
      "INFO:tensorflow:Assets written to: RNN_eng4.ckpt\\assets\n"
     ]
    },
    {
     "name": "stdout",
     "output_type": "stream",
     "text": [
      "43679/43679 [==============================] - 67s 2ms/step - loss: 0.0679 - val_loss: 0.0674\n",
      "Epoch 4/30\n",
      "43679/43679 [==============================] - 66s 2ms/step - loss: 0.0657 - val_loss: 0.0683\n",
      "Epoch 5/30\n",
      "43672/43679 [============================>.] - ETA: 0s - loss: 0.0644INFO:tensorflow:Assets written to: RNN_eng4.ckpt\\assets\n"
     ]
    },
    {
     "name": "stderr",
     "output_type": "stream",
     "text": [
      "INFO:tensorflow:Assets written to: RNN_eng4.ckpt\\assets\n"
     ]
    },
    {
     "name": "stdout",
     "output_type": "stream",
     "text": [
      "43679/43679 [==============================] - 67s 2ms/step - loss: 0.0644 - val_loss: 0.0670\n",
      "Epoch 6/30\n",
      "43679/43679 [==============================] - 66s 2ms/step - loss: 0.0635 - val_loss: 0.0679\n",
      "Epoch 7/30\n",
      "43658/43679 [============================>.] - ETA: 0s - loss: 0.0627INFO:tensorflow:Assets written to: RNN_eng4.ckpt\\assets\n"
     ]
    },
    {
     "name": "stderr",
     "output_type": "stream",
     "text": [
      "INFO:tensorflow:Assets written to: RNN_eng4.ckpt\\assets\n"
     ]
    },
    {
     "name": "stdout",
     "output_type": "stream",
     "text": [
      "43679/43679 [==============================] - 67s 2ms/step - loss: 0.0627 - val_loss: 0.0645\n",
      "Epoch 8/30\n",
      "43679/43679 [==============================] - 67s 2ms/step - loss: 0.0622 - val_loss: 0.0665\n",
      "Epoch 9/30\n",
      "43647/43679 [============================>.] - ETA: 0s - loss: 0.0617INFO:tensorflow:Assets written to: RNN_eng4.ckpt\\assets\n"
     ]
    },
    {
     "name": "stderr",
     "output_type": "stream",
     "text": [
      "INFO:tensorflow:Assets written to: RNN_eng4.ckpt\\assets\n"
     ]
    },
    {
     "name": "stdout",
     "output_type": "stream",
     "text": [
      "43679/43679 [==============================] - 67s 2ms/step - loss: 0.0617 - val_loss: 0.0643\n",
      "Epoch 10/30\n",
      "43646/43679 [============================>.] - ETA: 0s - loss: 0.0613INFO:tensorflow:Assets written to: RNN_eng4.ckpt\\assets\n"
     ]
    },
    {
     "name": "stderr",
     "output_type": "stream",
     "text": [
      "INFO:tensorflow:Assets written to: RNN_eng4.ckpt\\assets\n"
     ]
    },
    {
     "name": "stdout",
     "output_type": "stream",
     "text": [
      "43679/43679 [==============================] - 67s 2ms/step - loss: 0.0613 - val_loss: 0.0632\n",
      "Epoch 11/30\n",
      "43679/43679 [==============================] - 67s 2ms/step - loss: 0.0608 - val_loss: 0.0649\n",
      "Epoch 12/30\n",
      "43672/43679 [============================>.] - ETA: 0s - loss: 0.0609INFO:tensorflow:Assets written to: RNN_eng4.ckpt\\assets\n"
     ]
    },
    {
     "name": "stderr",
     "output_type": "stream",
     "text": [
      "INFO:tensorflow:Assets written to: RNN_eng4.ckpt\\assets\n"
     ]
    },
    {
     "name": "stdout",
     "output_type": "stream",
     "text": [
      "43679/43679 [==============================] - 68s 2ms/step - loss: 0.0609 - val_loss: 0.0629\n",
      "Epoch 13/30\n",
      "43679/43679 [==============================] - 70s 2ms/step - loss: 0.0605 - val_loss: 0.0638\n",
      "Epoch 14/30\n",
      "43679/43679 [==============================] - 71s 2ms/step - loss: 0.0602 - val_loss: 0.0633\n",
      "Epoch 15/30\n",
      "43679/43679 [==============================] - 71s 2ms/step - loss: 0.0600 - val_loss: 0.0651\n",
      "Epoch 16/30\n",
      "43679/43679 [==============================] - 70s 2ms/step - loss: 0.0597 - val_loss: 0.0639\n",
      "Epoch 17/30\n",
      "43672/43679 [============================>.] - ETA: 0s - loss: 0.0598INFO:tensorflow:Assets written to: RNN_eng4.ckpt\\assets\n"
     ]
    },
    {
     "name": "stderr",
     "output_type": "stream",
     "text": [
      "INFO:tensorflow:Assets written to: RNN_eng4.ckpt\\assets\n"
     ]
    },
    {
     "name": "stdout",
     "output_type": "stream",
     "text": [
      "43679/43679 [==============================] - 74s 2ms/step - loss: 0.0598 - val_loss: 0.0623\n",
      "Epoch 18/30\n",
      "43679/43679 [==============================] - 71s 2ms/step - loss: 0.0594 - val_loss: 0.0646\n",
      "Epoch 19/30\n",
      "43679/43679 [==============================] - 71s 2ms/step - loss: 0.0597 - val_loss: 0.0645\n",
      "Epoch 20/30\n",
      "43676/43679 [============================>.] - ETA: 0s - loss: 0.0592INFO:tensorflow:Assets written to: RNN_eng4.ckpt\\assets\n"
     ]
    },
    {
     "name": "stderr",
     "output_type": "stream",
     "text": [
      "INFO:tensorflow:Assets written to: RNN_eng4.ckpt\\assets\n"
     ]
    },
    {
     "name": "stdout",
     "output_type": "stream",
     "text": [
      "43679/43679 [==============================] - 65s 1ms/step - loss: 0.0592 - val_loss: 0.0620\n",
      "Epoch 21/30\n",
      "43679/43679 [==============================] - 68s 2ms/step - loss: 0.0595 - val_loss: 0.0625\n",
      "Epoch 22/30\n",
      "43679/43679 [==============================] - 72s 2ms/step - loss: 0.0589 - val_loss: 0.0665\n",
      "Epoch 23/30\n",
      "43679/43679 [==============================] - 72s 2ms/step - loss: 0.0592 - val_loss: 0.0634\n",
      "Epoch 24/30\n",
      "43679/43679 [==============================] - 67s 2ms/step - loss: 0.0591 - val_loss: 0.0636\n",
      "Epoch 25/30\n",
      "43679/43679 [==============================] - 67s 2ms/step - loss: 0.0586 - val_loss: 0.0633\n",
      "Epoch 26/30\n",
      "43679/43679 [==============================] - 67s 2ms/step - loss: 0.0586 - val_loss: 0.0649\n",
      "Epoch 27/30\n",
      "43679/43679 [==============================] - 67s 2ms/step - loss: 0.0586 - val_loss: 0.0627\n",
      "Epoch 28/30\n",
      "43679/43679 [==============================] - 67s 2ms/step - loss: 0.0581 - val_loss: 0.0623\n",
      "Epoch 29/30\n",
      "43679/43679 [==============================] - 67s 2ms/step - loss: 0.0585 - val_loss: 0.0635\n",
      "Epoch 30/30\n",
      "43679/43679 [==============================] - 67s 2ms/step - loss: 0.0582 - val_loss: 0.0661\n",
      "Epoch 1/30\n",
      "43661/43679 [============================>.] - ETA: 0s - loss: 0.0865INFO:tensorflow:Assets written to: RNN_eng5.ckpt\\assets\n"
     ]
    },
    {
     "name": "stderr",
     "output_type": "stream",
     "text": [
      "INFO:tensorflow:Assets written to: RNN_eng5.ckpt\\assets\n"
     ]
    },
    {
     "name": "stdout",
     "output_type": "stream",
     "text": [
      "43679/43679 [==============================] - 76s 2ms/step - loss: 0.0865 - val_loss: 0.0743\n",
      "Epoch 2/30\n",
      "43673/43679 [============================>.] - ETA: 0s - loss: 0.0700INFO:tensorflow:Assets written to: RNN_eng5.ckpt\\assets\n"
     ]
    },
    {
     "name": "stderr",
     "output_type": "stream",
     "text": [
      "INFO:tensorflow:Assets written to: RNN_eng5.ckpt\\assets\n"
     ]
    },
    {
     "name": "stdout",
     "output_type": "stream",
     "text": [
      "43679/43679 [==============================] - 74s 2ms/step - loss: 0.0700 - val_loss: 0.0672\n",
      "Epoch 3/30\n",
      "43679/43679 [==============================] - 73s 2ms/step - loss: 0.0670 - val_loss: 0.0675\n",
      "Epoch 4/30\n",
      "43649/43679 [============================>.] - ETA: 0s - loss: 0.0656INFO:tensorflow:Assets written to: RNN_eng5.ckpt\\assets\n"
     ]
    },
    {
     "name": "stderr",
     "output_type": "stream",
     "text": [
      "INFO:tensorflow:Assets written to: RNN_eng5.ckpt\\assets\n"
     ]
    },
    {
     "name": "stdout",
     "output_type": "stream",
     "text": [
      "43679/43679 [==============================] - 74s 2ms/step - loss: 0.0656 - val_loss: 0.0667\n",
      "Epoch 5/30\n",
      "43660/43679 [============================>.] - ETA: 0s - loss: 0.0644INFO:tensorflow:Assets written to: RNN_eng5.ckpt\\assets\n"
     ]
    },
    {
     "name": "stderr",
     "output_type": "stream",
     "text": [
      "INFO:tensorflow:Assets written to: RNN_eng5.ckpt\\assets\n"
     ]
    },
    {
     "name": "stdout",
     "output_type": "stream",
     "text": [
      "43679/43679 [==============================] - 74s 2ms/step - loss: 0.0644 - val_loss: 0.0646\n",
      "Epoch 6/30\n",
      "43679/43679 [==============================] - 73s 2ms/step - loss: 0.0637 - val_loss: 0.0663\n",
      "Epoch 7/30\n",
      "43679/43679 [==============================] - 73s 2ms/step - loss: 0.0634 - val_loss: 0.0735\n",
      "Epoch 8/30\n",
      "43679/43679 [==============================] - 74s 2ms/step - loss: 0.0643 - val_loss: 0.0659\n",
      "Epoch 9/30\n",
      "43679/43679 [==============================] - 74s 2ms/step - loss: 0.0631 - val_loss: 0.0648\n",
      "Epoch 10/30\n",
      "43679/43679 [==============================] - 75s 2ms/step - loss: 0.0655 - val_loss: 0.0657\n",
      "Epoch 11/30\n",
      "43679/43679 [==============================] - 74s 2ms/step - loss: 0.0620 - val_loss: 0.0693\n",
      "Epoch 12/30\n",
      "43679/43679 [==============================] - 73s 2ms/step - loss: 0.0628 - val_loss: 0.0646\n",
      "Epoch 13/30\n",
      "43662/43679 [============================>.] - ETA: 0s - loss: 0.0616INFO:tensorflow:Assets written to: RNN_eng5.ckpt\\assets\n"
     ]
    },
    {
     "name": "stderr",
     "output_type": "stream",
     "text": [
      "INFO:tensorflow:Assets written to: RNN_eng5.ckpt\\assets\n"
     ]
    },
    {
     "name": "stdout",
     "output_type": "stream",
     "text": [
      "43679/43679 [==============================] - 74s 2ms/step - loss: 0.0616 - val_loss: 0.0639\n",
      "Epoch 14/30\n",
      "43679/43679 [==============================] - 74s 2ms/step - loss: 0.0619 - val_loss: 0.0757\n",
      "Epoch 15/30\n",
      "43679/43679 [==============================] - 74s 2ms/step - loss: 0.0630 - val_loss: 0.0776\n",
      "Epoch 16/30\n",
      "43679/43679 [==============================] - 74s 2ms/step - loss: 0.0663 - val_loss: 0.0867\n",
      "Epoch 17/30\n",
      "43679/43679 [==============================] - 73s 2ms/step - loss: 0.0651 - val_loss: 0.0774\n",
      "Epoch 18/30\n",
      "43679/43679 [==============================] - 74s 2ms/step - loss: 0.0819 - val_loss: 0.0868\n",
      "Epoch 19/30\n",
      "43679/43679 [==============================] - 74s 2ms/step - loss: 0.0625 - val_loss: 0.1018\n",
      "Epoch 20/30\n",
      "43679/43679 [==============================] - 73s 2ms/step - loss: 0.0644 - val_loss: 0.0966\n",
      "Epoch 21/30\n",
      "43679/43679 [==============================] - 74s 2ms/step - loss: 0.0648 - val_loss: 0.1640\n",
      "Epoch 22/30\n",
      "43679/43679 [==============================] - 74s 2ms/step - loss: 0.0638 - val_loss: 0.1268\n",
      "Epoch 23/30\n",
      "43679/43679 [==============================] - 74s 2ms/step - loss: 0.0649 - val_loss: 0.1032\n",
      "Epoch 24/30\n",
      "43679/43679 [==============================] - 74s 2ms/step - loss: 0.0690 - val_loss: 0.1384\n",
      "Epoch 25/30\n",
      "43679/43679 [==============================] - 74s 2ms/step - loss: 0.0665 - val_loss: 0.1611\n",
      "Epoch 26/30\n",
      "43679/43679 [==============================] - 74s 2ms/step - loss: 0.0638 - val_loss: 0.1535\n",
      "Epoch 27/30\n",
      "43679/43679 [==============================] - 74s 2ms/step - loss: 0.0801 - val_loss: 0.1632\n",
      "Epoch 28/30\n",
      "43679/43679 [==============================] - 74s 2ms/step - loss: 0.0690 - val_loss: 0.2310\n",
      "Epoch 29/30\n",
      "43679/43679 [==============================] - 74s 2ms/step - loss: 0.0711 - val_loss: 0.2138\n",
      "Epoch 30/30\n",
      "43679/43679 [==============================] - 74s 2ms/step - loss: 0.0667 - val_loss: 0.2301\n",
      "Epoch 1/30\n",
      "43677/43679 [============================>.] - ETA: 0s - loss: 0.0875INFO:tensorflow:Assets written to: RNN_eng6.ckpt\\assets\n"
     ]
    },
    {
     "name": "stderr",
     "output_type": "stream",
     "text": [
      "INFO:tensorflow:Assets written to: RNN_eng6.ckpt\\assets\n"
     ]
    },
    {
     "name": "stdout",
     "output_type": "stream",
     "text": [
      "43679/43679 [==============================] - 80s 2ms/step - loss: 0.0875 - val_loss: 0.0772\n",
      "Epoch 2/30\n",
      "43644/43679 [============================>.] - ETA: 0s - loss: 0.0713INFO:tensorflow:Assets written to: RNN_eng6.ckpt\\assets\n"
     ]
    },
    {
     "name": "stderr",
     "output_type": "stream",
     "text": [
      "INFO:tensorflow:Assets written to: RNN_eng6.ckpt\\assets\n"
     ]
    },
    {
     "name": "stdout",
     "output_type": "stream",
     "text": [
      "43679/43679 [==============================] - 79s 2ms/step - loss: 0.0713 - val_loss: 0.0689\n",
      "Epoch 3/30\n",
      "43679/43679 [==============================] - 78s 2ms/step - loss: 0.0684 - val_loss: 0.0715\n",
      "Epoch 4/30\n",
      "43678/43679 [============================>.] - ETA: 0s - loss: 0.0667INFO:tensorflow:Assets written to: RNN_eng6.ckpt\\assets\n"
     ]
    },
    {
     "name": "stderr",
     "output_type": "stream",
     "text": [
      "INFO:tensorflow:Assets written to: RNN_eng6.ckpt\\assets\n"
     ]
    },
    {
     "name": "stdout",
     "output_type": "stream",
     "text": [
      "43679/43679 [==============================] - 79s 2ms/step - loss: 0.0667 - val_loss: 0.0680\n",
      "Epoch 5/30\n",
      "43646/43679 [============================>.] - ETA: 0s - loss: 0.0664INFO:tensorflow:Assets written to: RNN_eng6.ckpt\\assets\n"
     ]
    },
    {
     "name": "stderr",
     "output_type": "stream",
     "text": [
      "INFO:tensorflow:Assets written to: RNN_eng6.ckpt\\assets\n"
     ]
    },
    {
     "name": "stdout",
     "output_type": "stream",
     "text": [
      "43679/43679 [==============================] - 79s 2ms/step - loss: 0.0664 - val_loss: 0.0656\n",
      "Epoch 6/30\n",
      "43679/43679 [==============================] - 79s 2ms/step - loss: 0.0668 - val_loss: 0.0661\n",
      "Epoch 7/30\n",
      "43679/43679 [==============================] - 79s 2ms/step - loss: 0.0652 - val_loss: 0.0680\n",
      "Epoch 8/30\n",
      "43679/43679 [==============================] - 78s 2ms/step - loss: 0.0644 - val_loss: 0.0681\n",
      "Epoch 9/30\n",
      "43679/43679 [==============================] - 78s 2ms/step - loss: 0.0652 - val_loss: 0.0662\n",
      "Epoch 10/30\n",
      "43679/43679 [==============================] - 78s 2ms/step - loss: 0.0646 - val_loss: 0.0880\n",
      "Epoch 11/30\n",
      "43679/43679 [==============================] - 78s 2ms/step - loss: 0.0666 - val_loss: 0.0664\n",
      "Epoch 12/30\n",
      "43679/43679 [==============================] - 78s 2ms/step - loss: 0.0653 - val_loss: 0.0697\n",
      "Epoch 13/30\n",
      "43679/43679 [==============================] - 78s 2ms/step - loss: 0.0657 - val_loss: 0.0936\n",
      "Epoch 14/30\n",
      "43679/43679 [==============================] - 79s 2ms/step - loss: 0.0663 - val_loss: 0.0892\n",
      "Epoch 15/30\n",
      "43679/43679 [==============================] - 79s 2ms/step - loss: 0.0719 - val_loss: 0.1224\n",
      "Epoch 16/30\n",
      "43679/43679 [==============================] - 79s 2ms/step - loss: 0.0646 - val_loss: 0.4486\n",
      "Epoch 17/30\n",
      "43679/43679 [==============================] - 79s 2ms/step - loss: 0.0953 - val_loss: 0.1177\n",
      "Epoch 18/30\n",
      "43679/43679 [==============================] - 78s 2ms/step - loss: 0.0887 - val_loss: 0.0984\n",
      "Epoch 19/30\n",
      "43679/43679 [==============================] - 78s 2ms/step - loss: 0.0729 - val_loss: 0.3266\n",
      "Epoch 20/30\n",
      "43679/43679 [==============================] - 79s 2ms/step - loss: 0.0715 - val_loss: 0.1535\n",
      "Epoch 21/30\n",
      "43679/43679 [==============================] - 79s 2ms/step - loss: 0.0778 - val_loss: 0.1639\n",
      "Epoch 22/30\n",
      "43679/43679 [==============================] - 78s 2ms/step - loss: 0.0775 - val_loss: 0.3280\n",
      "Epoch 23/30\n",
      "43679/43679 [==============================] - 78s 2ms/step - loss: 0.0745 - val_loss: 0.4047\n",
      "Epoch 24/30\n",
      "43679/43679 [==============================] - 79s 2ms/step - loss: 0.0750 - val_loss: 0.2867\n",
      "Epoch 25/30\n",
      "43679/43679 [==============================] - 78s 2ms/step - loss: 0.0780 - val_loss: 0.1292\n",
      "Epoch 26/30\n",
      "43679/43679 [==============================] - 78s 2ms/step - loss: 0.0789 - val_loss: 0.1870\n",
      "Epoch 27/30\n",
      "43679/43679 [==============================] - 79s 2ms/step - loss: 0.0745 - val_loss: 0.1513\n",
      "Epoch 28/30\n",
      "43679/43679 [==============================] - 79s 2ms/step - loss: 0.0727 - val_loss: 0.1703\n",
      "Epoch 29/30\n",
      "43679/43679 [==============================] - 78s 2ms/step - loss: 0.0733 - val_loss: 0.3027\n",
      "Epoch 30/30\n",
      "43679/43679 [==============================] - 78s 2ms/step - loss: 0.0789 - val_loss: 0.3907\n",
      "Epoch 1/30\n",
      "43676/43679 [============================>.] - ETA: 0s - loss: 0.1056INFO:tensorflow:Assets written to: RNN_eng7.ckpt\\assets\n"
     ]
    },
    {
     "name": "stderr",
     "output_type": "stream",
     "text": [
      "INFO:tensorflow:Assets written to: RNN_eng7.ckpt\\assets\n"
     ]
    },
    {
     "name": "stdout",
     "output_type": "stream",
     "text": [
      "43679/43679 [==============================] - 66s 1ms/step - loss: 0.1056 - val_loss: 0.0885\n",
      "Epoch 2/30\n",
      "43656/43679 [============================>.] - ETA: 0s - loss: 0.0819INFO:tensorflow:Assets written to: RNN_eng7.ckpt\\assets\n"
     ]
    },
    {
     "name": "stderr",
     "output_type": "stream",
     "text": [
      "INFO:tensorflow:Assets written to: RNN_eng7.ckpt\\assets\n"
     ]
    },
    {
     "name": "stdout",
     "output_type": "stream",
     "text": [
      "43679/43679 [==============================] - 63s 1ms/step - loss: 0.0819 - val_loss: 0.0792\n",
      "Epoch 3/30\n",
      "43651/43679 [============================>.] - ETA: 0s - loss: 0.0778INFO:tensorflow:Assets written to: RNN_eng7.ckpt\\assets\n"
     ]
    },
    {
     "name": "stderr",
     "output_type": "stream",
     "text": [
      "INFO:tensorflow:Assets written to: RNN_eng7.ckpt\\assets\n"
     ]
    },
    {
     "name": "stdout",
     "output_type": "stream",
     "text": [
      "43679/43679 [==============================] - 63s 1ms/step - loss: 0.0778 - val_loss: 0.0790\n",
      "Epoch 4/30\n",
      "43657/43679 [============================>.] - ETA: 0s - loss: 0.0756INFO:tensorflow:Assets written to: RNN_eng7.ckpt\\assets\n"
     ]
    },
    {
     "name": "stderr",
     "output_type": "stream",
     "text": [
      "INFO:tensorflow:Assets written to: RNN_eng7.ckpt\\assets\n"
     ]
    },
    {
     "name": "stdout",
     "output_type": "stream",
     "text": [
      "43679/43679 [==============================] - 64s 1ms/step - loss: 0.0756 - val_loss: 0.0756\n",
      "Epoch 5/30\n",
      "43679/43679 [==============================] - 63s 1ms/step - loss: 0.0740 - val_loss: 0.0761\n",
      "Epoch 6/30\n",
      "43671/43679 [============================>.] - ETA: 0s - loss: 0.0730INFO:tensorflow:Assets written to: RNN_eng7.ckpt\\assets\n"
     ]
    },
    {
     "name": "stderr",
     "output_type": "stream",
     "text": [
      "INFO:tensorflow:Assets written to: RNN_eng7.ckpt\\assets\n"
     ]
    },
    {
     "name": "stdout",
     "output_type": "stream",
     "text": [
      "43679/43679 [==============================] - 64s 1ms/step - loss: 0.0730 - val_loss: 0.0755\n",
      "Epoch 7/30\n",
      "43670/43679 [============================>.] - ETA: 0s - loss: 0.0722INFO:tensorflow:Assets written to: RNN_eng7.ckpt\\assets\n"
     ]
    },
    {
     "name": "stderr",
     "output_type": "stream",
     "text": [
      "INFO:tensorflow:Assets written to: RNN_eng7.ckpt\\assets\n"
     ]
    },
    {
     "name": "stdout",
     "output_type": "stream",
     "text": [
      "43679/43679 [==============================] - 63s 1ms/step - loss: 0.0722 - val_loss: 0.0728\n",
      "Epoch 8/30\n",
      "43679/43679 [==============================] - 63s 1ms/step - loss: 0.0715 - val_loss: 0.0785\n",
      "Epoch 9/30\n",
      "43649/43679 [============================>.] - ETA: 0s - loss: 0.0709INFO:tensorflow:Assets written to: RNN_eng7.ckpt\\assets\n"
     ]
    },
    {
     "name": "stderr",
     "output_type": "stream",
     "text": [
      "INFO:tensorflow:Assets written to: RNN_eng7.ckpt\\assets\n"
     ]
    },
    {
     "name": "stdout",
     "output_type": "stream",
     "text": [
      "43679/43679 [==============================] - 64s 1ms/step - loss: 0.0709 - val_loss: 0.0722\n",
      "Epoch 10/30\n",
      "43679/43679 [==============================] - 63s 1ms/step - loss: 0.0705 - val_loss: 0.0726\n",
      "Epoch 11/30\n",
      "43679/43679 [==============================] - 63s 1ms/step - loss: 0.0700 - val_loss: 0.0739\n",
      "Epoch 12/30\n",
      "43640/43679 [============================>.] - ETA: 0s - loss: 0.0698INFO:tensorflow:Assets written to: RNN_eng7.ckpt\\assets\n"
     ]
    },
    {
     "name": "stderr",
     "output_type": "stream",
     "text": [
      "INFO:tensorflow:Assets written to: RNN_eng7.ckpt\\assets\n"
     ]
    },
    {
     "name": "stdout",
     "output_type": "stream",
     "text": [
      "43679/43679 [==============================] - 64s 1ms/step - loss: 0.0698 - val_loss: 0.0718\n",
      "Epoch 13/30\n",
      "43654/43679 [============================>.] - ETA: 0s - loss: 0.0694INFO:tensorflow:Assets written to: RNN_eng7.ckpt\\assets\n"
     ]
    },
    {
     "name": "stderr",
     "output_type": "stream",
     "text": [
      "INFO:tensorflow:Assets written to: RNN_eng7.ckpt\\assets\n"
     ]
    },
    {
     "name": "stdout",
     "output_type": "stream",
     "text": [
      "43679/43679 [==============================] - 64s 1ms/step - loss: 0.0694 - val_loss: 0.0710\n",
      "Epoch 14/30\n",
      "43679/43679 [==============================] - 63s 1ms/step - loss: 0.0691 - val_loss: 0.0719\n",
      "Epoch 15/30\n",
      "43679/43679 [==============================] - 63s 1ms/step - loss: 0.0689 - val_loss: 0.0719\n",
      "Epoch 16/30\n",
      "43679/43679 [==============================] - 63s 1ms/step - loss: 0.0685 - val_loss: 0.0724\n",
      "Epoch 17/30\n",
      "43644/43679 [============================>.] - ETA: 0s - loss: 0.0684INFO:tensorflow:Assets written to: RNN_eng7.ckpt\\assets\n"
     ]
    },
    {
     "name": "stderr",
     "output_type": "stream",
     "text": [
      "INFO:tensorflow:Assets written to: RNN_eng7.ckpt\\assets\n"
     ]
    },
    {
     "name": "stdout",
     "output_type": "stream",
     "text": [
      "43679/43679 [==============================] - 64s 1ms/step - loss: 0.0684 - val_loss: 0.0705\n",
      "Epoch 18/30\n",
      "43657/43679 [============================>.] - ETA: 0s - loss: 0.0682INFO:tensorflow:Assets written to: RNN_eng7.ckpt\\assets\n"
     ]
    },
    {
     "name": "stderr",
     "output_type": "stream",
     "text": [
      "INFO:tensorflow:Assets written to: RNN_eng7.ckpt\\assets\n"
     ]
    },
    {
     "name": "stdout",
     "output_type": "stream",
     "text": [
      "43679/43679 [==============================] - 64s 1ms/step - loss: 0.0682 - val_loss: 0.0699\n",
      "Epoch 19/30\n",
      "43679/43679 [==============================] - 63s 1ms/step - loss: 0.0680 - val_loss: 0.0703\n",
      "Epoch 20/30\n",
      "43679/43679 [==============================] - ETA: 0s - loss: 0.0679INFO:tensorflow:Assets written to: RNN_eng7.ckpt\\assets\n"
     ]
    },
    {
     "name": "stderr",
     "output_type": "stream",
     "text": [
      "INFO:tensorflow:Assets written to: RNN_eng7.ckpt\\assets\n"
     ]
    },
    {
     "name": "stdout",
     "output_type": "stream",
     "text": [
      "43679/43679 [==============================] - 64s 1ms/step - loss: 0.0679 - val_loss: 0.0698\n",
      "Epoch 21/30\n",
      "43679/43679 [==============================] - 63s 1ms/step - loss: 0.0678 - val_loss: 0.0699\n",
      "Epoch 22/30\n",
      "43671/43679 [============================>.] - ETA: 0s - loss: 0.0676INFO:tensorflow:Assets written to: RNN_eng7.ckpt\\assets\n"
     ]
    },
    {
     "name": "stderr",
     "output_type": "stream",
     "text": [
      "INFO:tensorflow:Assets written to: RNN_eng7.ckpt\\assets\n"
     ]
    },
    {
     "name": "stdout",
     "output_type": "stream",
     "text": [
      "43679/43679 [==============================] - 64s 1ms/step - loss: 0.0676 - val_loss: 0.0696\n",
      "Epoch 23/30\n",
      "43671/43679 [============================>.] - ETA: 0s - loss: 0.0677INFO:tensorflow:Assets written to: RNN_eng7.ckpt\\assets\n"
     ]
    },
    {
     "name": "stderr",
     "output_type": "stream",
     "text": [
      "INFO:tensorflow:Assets written to: RNN_eng7.ckpt\\assets\n"
     ]
    },
    {
     "name": "stdout",
     "output_type": "stream",
     "text": [
      "43679/43679 [==============================] - 64s 1ms/step - loss: 0.0677 - val_loss: 0.0689\n",
      "Epoch 24/30\n",
      "43679/43679 [==============================] - 63s 1ms/step - loss: 0.0676 - val_loss: 0.0693\n",
      "Epoch 25/30\n",
      "43656/43679 [============================>.] - ETA: 0s - loss: 0.0675INFO:tensorflow:Assets written to: RNN_eng7.ckpt\\assets\n"
     ]
    },
    {
     "name": "stderr",
     "output_type": "stream",
     "text": [
      "INFO:tensorflow:Assets written to: RNN_eng7.ckpt\\assets\n"
     ]
    },
    {
     "name": "stdout",
     "output_type": "stream",
     "text": [
      "43679/43679 [==============================] - 64s 1ms/step - loss: 0.0675 - val_loss: 0.0687\n",
      "Epoch 26/30\n",
      "43679/43679 [==============================] - 64s 1ms/step - loss: 0.0675 - val_loss: 0.0704\n",
      "Epoch 27/30\n",
      "43679/43679 [==============================] - 63s 1ms/step - loss: 0.0674 - val_loss: 0.0688\n",
      "Epoch 28/30\n",
      "43679/43679 [==============================] - 63s 1ms/step - loss: 0.0673 - val_loss: 0.0687\n",
      "Epoch 29/30\n",
      "43679/43679 [==============================] - 63s 1ms/step - loss: 0.0674 - val_loss: 0.0697\n",
      "Epoch 30/30\n",
      "43679/43679 [==============================] - 63s 1ms/step - loss: 0.0673 - val_loss: 0.0689\n",
      "Epoch 1/30\n",
      "43647/43679 [============================>.] - ETA: 0s - loss: 0.0993INFO:tensorflow:Assets written to: RNN_eng8.ckpt\\assets\n"
     ]
    },
    {
     "name": "stderr",
     "output_type": "stream",
     "text": [
      "INFO:tensorflow:Assets written to: RNN_eng8.ckpt\\assets\n"
     ]
    },
    {
     "name": "stdout",
     "output_type": "stream",
     "text": [
      "43679/43679 [==============================] - 67s 2ms/step - loss: 0.0993 - val_loss: 0.0802\n",
      "Epoch 2/30\n",
      "43675/43679 [============================>.] - ETA: 0s - loss: 0.0772INFO:tensorflow:Assets written to: RNN_eng8.ckpt\\assets\n"
     ]
    },
    {
     "name": "stderr",
     "output_type": "stream",
     "text": [
      "INFO:tensorflow:Assets written to: RNN_eng8.ckpt\\assets\n"
     ]
    },
    {
     "name": "stdout",
     "output_type": "stream",
     "text": [
      "43679/43679 [==============================] - 67s 2ms/step - loss: 0.0772 - val_loss: 0.0740\n",
      "Epoch 3/30\n",
      "43646/43679 [============================>.] - ETA: 0s - loss: 0.0731INFO:tensorflow:Assets written to: RNN_eng8.ckpt\\assets\n"
     ]
    },
    {
     "name": "stderr",
     "output_type": "stream",
     "text": [
      "INFO:tensorflow:Assets written to: RNN_eng8.ckpt\\assets\n"
     ]
    },
    {
     "name": "stdout",
     "output_type": "stream",
     "text": [
      "43679/43679 [==============================] - 67s 2ms/step - loss: 0.0731 - val_loss: 0.0732\n",
      "Epoch 4/30\n",
      "43655/43679 [============================>.] - ETA: 0s - loss: 0.0707INFO:tensorflow:Assets written to: RNN_eng8.ckpt\\assets\n"
     ]
    },
    {
     "name": "stderr",
     "output_type": "stream",
     "text": [
      "INFO:tensorflow:Assets written to: RNN_eng8.ckpt\\assets\n"
     ]
    },
    {
     "name": "stdout",
     "output_type": "stream",
     "text": [
      "43679/43679 [==============================] - 68s 2ms/step - loss: 0.0707 - val_loss: 0.0715\n",
      "Epoch 5/30\n",
      "43679/43679 [==============================] - 66s 2ms/step - loss: 0.0695 - val_loss: 0.0749\n",
      "Epoch 6/30\n",
      "43679/43679 [==============================] - 66s 2ms/step - loss: 0.0684 - val_loss: 0.0716\n",
      "Epoch 7/30\n",
      "43658/43679 [============================>.] - ETA: 0s - loss: 0.0677INFO:tensorflow:Assets written to: RNN_eng8.ckpt\\assets\n"
     ]
    },
    {
     "name": "stderr",
     "output_type": "stream",
     "text": [
      "INFO:tensorflow:Assets written to: RNN_eng8.ckpt\\assets\n"
     ]
    },
    {
     "name": "stdout",
     "output_type": "stream",
     "text": [
      "43679/43679 [==============================] - 67s 2ms/step - loss: 0.0677 - val_loss: 0.0693\n",
      "Epoch 8/30\n",
      "43657/43679 [============================>.] - ETA: 0s - loss: 0.0672INFO:tensorflow:Assets written to: RNN_eng8.ckpt\\assets\n"
     ]
    },
    {
     "name": "stderr",
     "output_type": "stream",
     "text": [
      "INFO:tensorflow:Assets written to: RNN_eng8.ckpt\\assets\n"
     ]
    },
    {
     "name": "stdout",
     "output_type": "stream",
     "text": [
      "43679/43679 [==============================] - 67s 2ms/step - loss: 0.0672 - val_loss: 0.0690\n",
      "Epoch 9/30\n",
      "43679/43679 [==============================] - 66s 2ms/step - loss: 0.0668 - val_loss: 0.0695\n",
      "Epoch 10/30\n",
      "43648/43679 [============================>.] - ETA: 0s - loss: 0.0663INFO:tensorflow:Assets written to: RNN_eng8.ckpt\\assets\n"
     ]
    },
    {
     "name": "stderr",
     "output_type": "stream",
     "text": [
      "INFO:tensorflow:Assets written to: RNN_eng8.ckpt\\assets\n"
     ]
    },
    {
     "name": "stdout",
     "output_type": "stream",
     "text": [
      "43679/43679 [==============================] - 67s 2ms/step - loss: 0.0663 - val_loss: 0.0671\n",
      "Epoch 11/30\n",
      "43677/43679 [============================>.] - ETA: 0s - loss: 0.0661INFO:tensorflow:Assets written to: RNN_eng8.ckpt\\assets\n"
     ]
    },
    {
     "name": "stderr",
     "output_type": "stream",
     "text": [
      "INFO:tensorflow:Assets written to: RNN_eng8.ckpt\\assets\n"
     ]
    },
    {
     "name": "stdout",
     "output_type": "stream",
     "text": [
      "43679/43679 [==============================] - 67s 2ms/step - loss: 0.0661 - val_loss: 0.0666\n",
      "Epoch 12/30\n",
      "43679/43679 [==============================] - 66s 2ms/step - loss: 0.0657 - val_loss: 0.0676\n",
      "Epoch 13/30\n",
      "43654/43679 [============================>.] - ETA: 0s - loss: 0.0656INFO:tensorflow:Assets written to: RNN_eng8.ckpt\\assets\n"
     ]
    },
    {
     "name": "stderr",
     "output_type": "stream",
     "text": [
      "INFO:tensorflow:Assets written to: RNN_eng8.ckpt\\assets\n"
     ]
    },
    {
     "name": "stdout",
     "output_type": "stream",
     "text": [
      "43679/43679 [==============================] - 66s 2ms/step - loss: 0.0656 - val_loss: 0.0666\n",
      "Epoch 14/30\n",
      "43679/43679 [==============================] - 66s 2ms/step - loss: 0.0651 - val_loss: 0.0684\n",
      "Epoch 15/30\n",
      "43679/43679 [==============================] - 66s 2ms/step - loss: 0.0650 - val_loss: 0.0674\n",
      "Epoch 16/30\n",
      "43679/43679 [==============================] - 66s 2ms/step - loss: 0.0650 - val_loss: 0.0674\n",
      "Epoch 17/30\n",
      "43679/43679 [==============================] - 66s 2ms/step - loss: 0.0648 - val_loss: 0.0681\n",
      "Epoch 18/30\n",
      "43658/43679 [============================>.] - ETA: 0s - loss: 0.0645INFO:tensorflow:Assets written to: RNN_eng8.ckpt\\assets\n"
     ]
    },
    {
     "name": "stderr",
     "output_type": "stream",
     "text": [
      "INFO:tensorflow:Assets written to: RNN_eng8.ckpt\\assets\n"
     ]
    },
    {
     "name": "stdout",
     "output_type": "stream",
     "text": [
      "43679/43679 [==============================] - 67s 2ms/step - loss: 0.0645 - val_loss: 0.0664\n",
      "Epoch 19/30\n",
      "43679/43679 [==============================] - 66s 2ms/step - loss: 0.0644 - val_loss: 0.0665\n",
      "Epoch 20/30\n",
      "43679/43679 [==============================] - 66s 2ms/step - loss: 0.0645 - val_loss: 0.0666\n",
      "Epoch 21/30\n",
      "43679/43679 [==============================] - 66s 2ms/step - loss: 0.0643 - val_loss: 0.0675\n",
      "Epoch 22/30\n",
      "43670/43679 [============================>.] - ETA: 0s - loss: 0.0642INFO:tensorflow:Assets written to: RNN_eng8.ckpt\\assets\n"
     ]
    },
    {
     "name": "stderr",
     "output_type": "stream",
     "text": [
      "INFO:tensorflow:Assets written to: RNN_eng8.ckpt\\assets\n"
     ]
    },
    {
     "name": "stdout",
     "output_type": "stream",
     "text": [
      "43679/43679 [==============================] - 68s 2ms/step - loss: 0.0642 - val_loss: 0.0659\n",
      "Epoch 23/30\n",
      "43679/43679 [==============================] - 66s 2ms/step - loss: 0.0639 - val_loss: 0.0669\n",
      "Epoch 24/30\n",
      "43666/43679 [============================>.] - ETA: 0s - loss: 0.0639INFO:tensorflow:Assets written to: RNN_eng8.ckpt\\assets\n"
     ]
    },
    {
     "name": "stderr",
     "output_type": "stream",
     "text": [
      "INFO:tensorflow:Assets written to: RNN_eng8.ckpt\\assets\n"
     ]
    },
    {
     "name": "stdout",
     "output_type": "stream",
     "text": [
      "43679/43679 [==============================] - 67s 2ms/step - loss: 0.0639 - val_loss: 0.0656\n",
      "Epoch 25/30\n",
      "43679/43679 [==============================] - 66s 2ms/step - loss: 0.0637 - val_loss: 0.0657\n",
      "Epoch 26/30\n",
      "43679/43679 [==============================] - 67s 2ms/step - loss: 0.0638 - val_loss: 0.0672\n",
      "Epoch 27/30\n",
      "43679/43679 [==============================] - 66s 2ms/step - loss: 0.0637 - val_loss: 0.0659\n",
      "Epoch 28/30\n",
      "43679/43679 [==============================] - 67s 2ms/step - loss: 0.0637 - val_loss: 0.0666\n",
      "Epoch 29/30\n",
      "43679/43679 [==============================] - 67s 2ms/step - loss: 0.0638 - val_loss: 0.0658\n",
      "Epoch 30/30\n",
      "43679/43679 [==============================] - 67s 2ms/step - loss: 0.0638 - val_loss: 0.0662\n",
      "Epoch 1/30\n",
      "43639/43679 [============================>.] - ETA: 0s - loss: 0.0938INFO:tensorflow:Assets written to: RNN_eng9.ckpt\\assets\n"
     ]
    },
    {
     "name": "stderr",
     "output_type": "stream",
     "text": [
      "INFO:tensorflow:Assets written to: RNN_eng9.ckpt\\assets\n"
     ]
    },
    {
     "name": "stdout",
     "output_type": "stream",
     "text": [
      "43679/43679 [==============================] - 70s 2ms/step - loss: 0.0938 - val_loss: 0.0793\n",
      "Epoch 2/30\n",
      "43677/43679 [============================>.] - ETA: 0s - loss: 0.0757INFO:tensorflow:Assets written to: RNN_eng9.ckpt\\assets\n"
     ]
    },
    {
     "name": "stderr",
     "output_type": "stream",
     "text": [
      "INFO:tensorflow:Assets written to: RNN_eng9.ckpt\\assets\n"
     ]
    },
    {
     "name": "stdout",
     "output_type": "stream",
     "text": [
      "43679/43679 [==============================] - 69s 2ms/step - loss: 0.0757 - val_loss: 0.0754\n",
      "Epoch 3/30\n",
      "43657/43679 [============================>.] - ETA: 0s - loss: 0.0725INFO:tensorflow:Assets written to: RNN_eng9.ckpt\\assets\n"
     ]
    },
    {
     "name": "stderr",
     "output_type": "stream",
     "text": [
      "INFO:tensorflow:Assets written to: RNN_eng9.ckpt\\assets\n"
     ]
    },
    {
     "name": "stdout",
     "output_type": "stream",
     "text": [
      "43679/43679 [==============================] - 69s 2ms/step - loss: 0.0725 - val_loss: 0.0717\n",
      "Epoch 4/30\n",
      "43675/43679 [============================>.] - ETA: 0s - loss: 0.0705INFO:tensorflow:Assets written to: RNN_eng9.ckpt\\assets\n"
     ]
    },
    {
     "name": "stderr",
     "output_type": "stream",
     "text": [
      "INFO:tensorflow:Assets written to: RNN_eng9.ckpt\\assets\n"
     ]
    },
    {
     "name": "stdout",
     "output_type": "stream",
     "text": [
      "43679/43679 [==============================] - 69s 2ms/step - loss: 0.0705 - val_loss: 0.0699\n",
      "Epoch 5/30\n",
      "43679/43679 [==============================] - 68s 2ms/step - loss: 0.0693 - val_loss: 0.0725\n",
      "Epoch 6/30\n",
      "43679/43679 [==============================] - 68s 2ms/step - loss: 0.0683 - val_loss: 0.0722\n",
      "Epoch 7/30\n",
      "43637/43679 [============================>.] - ETA: 0s - loss: 0.0676INFO:tensorflow:Assets written to: RNN_eng9.ckpt\\assets\n"
     ]
    },
    {
     "name": "stderr",
     "output_type": "stream",
     "text": [
      "INFO:tensorflow:Assets written to: RNN_eng9.ckpt\\assets\n"
     ]
    },
    {
     "name": "stdout",
     "output_type": "stream",
     "text": [
      "43679/43679 [==============================] - 69s 2ms/step - loss: 0.0676 - val_loss: 0.0682\n",
      "Epoch 8/30\n",
      "43648/43679 [============================>.] - ETA: 0s - loss: 0.0673INFO:tensorflow:Assets written to: RNN_eng9.ckpt\\assets\n"
     ]
    },
    {
     "name": "stderr",
     "output_type": "stream",
     "text": [
      "INFO:tensorflow:Assets written to: RNN_eng9.ckpt\\assets\n"
     ]
    },
    {
     "name": "stdout",
     "output_type": "stream",
     "text": [
      "43679/43679 [==============================] - 69s 2ms/step - loss: 0.0673 - val_loss: 0.0679\n",
      "Epoch 9/30\n",
      "43679/43679 [==============================] - 68s 2ms/step - loss: 0.0667 - val_loss: 0.0714\n",
      "Epoch 10/30\n",
      "43661/43679 [============================>.] - ETA: 0s - loss: 0.0665INFO:tensorflow:Assets written to: RNN_eng9.ckpt\\assets\n"
     ]
    },
    {
     "name": "stderr",
     "output_type": "stream",
     "text": [
      "INFO:tensorflow:Assets written to: RNN_eng9.ckpt\\assets\n"
     ]
    },
    {
     "name": "stdout",
     "output_type": "stream",
     "text": [
      "43679/43679 [==============================] - 69s 2ms/step - loss: 0.0665 - val_loss: 0.0676\n",
      "Epoch 11/30\n",
      "43679/43679 [==============================] - 68s 2ms/step - loss: 0.0661 - val_loss: 0.0682\n",
      "Epoch 12/30\n",
      "43653/43679 [============================>.] - ETA: 0s - loss: 0.0657INFO:tensorflow:Assets written to: RNN_eng9.ckpt\\assets\n"
     ]
    },
    {
     "name": "stderr",
     "output_type": "stream",
     "text": [
      "INFO:tensorflow:Assets written to: RNN_eng9.ckpt\\assets\n"
     ]
    },
    {
     "name": "stdout",
     "output_type": "stream",
     "text": [
      "43679/43679 [==============================] - 69s 2ms/step - loss: 0.0657 - val_loss: 0.0661\n",
      "Epoch 13/30\n",
      "43679/43679 [==============================] - 68s 2ms/step - loss: 0.0655 - val_loss: 0.0679\n",
      "Epoch 14/30\n",
      "43679/43679 [==============================] - 68s 2ms/step - loss: 0.0653 - val_loss: 0.0715\n",
      "Epoch 15/30\n",
      "43655/43679 [============================>.] - ETA: 0s - loss: 0.0652INFO:tensorflow:Assets written to: RNN_eng9.ckpt\\assets\n"
     ]
    },
    {
     "name": "stderr",
     "output_type": "stream",
     "text": [
      "INFO:tensorflow:Assets written to: RNN_eng9.ckpt\\assets\n"
     ]
    },
    {
     "name": "stdout",
     "output_type": "stream",
     "text": [
      "43679/43679 [==============================] - 69s 2ms/step - loss: 0.0652 - val_loss: 0.0661\n",
      "Epoch 16/30\n",
      "43679/43679 [==============================] - 68s 2ms/step - loss: 0.0654 - val_loss: 0.0670\n",
      "Epoch 17/30\n",
      "43679/43679 [==============================] - 68s 2ms/step - loss: 0.0655 - val_loss: 0.0698\n",
      "Epoch 18/30\n",
      "43679/43679 [==============================] - 68s 2ms/step - loss: 0.0653 - val_loss: 0.0676\n",
      "Epoch 19/30\n",
      "43679/43679 [==============================] - 68s 2ms/step - loss: 0.0652 - val_loss: 0.0672\n",
      "Epoch 20/30\n",
      "43679/43679 [==============================] - 68s 2ms/step - loss: 0.0652 - val_loss: 0.0719\n",
      "Epoch 21/30\n",
      "43679/43679 [==============================] - 69s 2ms/step - loss: 0.0663 - val_loss: 0.0669\n",
      "Epoch 22/30\n",
      "43679/43679 [==============================] - 69s 2ms/step - loss: 0.0652 - val_loss: 0.0688\n",
      "Epoch 23/30\n",
      "43679/43679 [==============================] - 68s 2ms/step - loss: 0.0651 - val_loss: 0.0678\n",
      "Epoch 24/30\n",
      "43646/43679 [============================>.] - ETA: 0s - loss: 0.0652INFO:tensorflow:Assets written to: RNN_eng9.ckpt\\assets\n"
     ]
    },
    {
     "name": "stderr",
     "output_type": "stream",
     "text": [
      "INFO:tensorflow:Assets written to: RNN_eng9.ckpt\\assets\n"
     ]
    },
    {
     "name": "stdout",
     "output_type": "stream",
     "text": [
      "43679/43679 [==============================] - 69s 2ms/step - loss: 0.0652 - val_loss: 0.0657\n",
      "Epoch 25/30\n",
      "43679/43679 [==============================] - 68s 2ms/step - loss: 0.0656 - val_loss: 0.0665\n",
      "Epoch 26/30\n",
      "43678/43679 [============================>.] - ETA: 0s - loss: 0.0661INFO:tensorflow:Assets written to: RNN_eng9.ckpt\\assets\n"
     ]
    },
    {
     "name": "stderr",
     "output_type": "stream",
     "text": [
      "INFO:tensorflow:Assets written to: RNN_eng9.ckpt\\assets\n"
     ]
    },
    {
     "name": "stdout",
     "output_type": "stream",
     "text": [
      "43679/43679 [==============================] - 69s 2ms/step - loss: 0.0661 - val_loss: 0.0656\n",
      "Epoch 27/30\n",
      "43679/43679 [==============================] - 68s 2ms/step - loss: 0.0654 - val_loss: 0.0665\n",
      "Epoch 28/30\n",
      "43679/43679 [==============================] - 69s 2ms/step - loss: 0.0653 - val_loss: 0.0672\n",
      "Epoch 29/30\n",
      "43679/43679 [==============================] - 68s 2ms/step - loss: 0.0659 - val_loss: 0.0689\n",
      "Epoch 30/30\n",
      "43679/43679 [==============================] - 69s 2ms/step - loss: 0.0650 - val_loss: 0.0704\n"
     ]
    }
   ],
   "source": [
    "\n",
    "# -------------------------------- FIRST MODEL --------------------------------------------------------------------------------\n",
    "n_layers= 1\n",
    "n_hidden_units = 64\n",
    "config_model_1 = (n_layers, n_hidden_units)\n",
    "config_models.append(config_model_1)\n",
    "\n",
    "model_RNN_1 = keras.Sequential([\n",
    "    keras.layers.Dense(units=64, activation='relu', input_shape=(X_train.shape[1], )),\n",
    "    keras.layers.Dense(units=64, activation='relu'),\n",
    "    keras.layers.Dense(4, activation='softmax')  \n",
    "])\n",
    "\n",
    "# Compile the model\n",
    "model_RNN_1.compile(optimizer='adam', loss='categorical_crossentropy')  \n",
    "\n",
    "# Train the model\n",
    "\n",
    "mcp_save = tf.keras.callbacks.ModelCheckpoint('RNN_eng1.ckpt', save_best_only=True, monitor='val_loss', mode='min')\n",
    "\n",
    "history = model_RNN_1.fit(X_train, y_train_one_hot, epochs=n_epochs, batch_size=32, validation_data=(X_val, y_val_one_hot), callbacks=[mcp_save])\n",
    "\n",
    "train_loss_1 = history.history['loss']\n",
    "val_loss_1 = history.history['val_loss']\n",
    "min_train = min(train_loss_1)\n",
    "min_val = min(val_loss_1)\n",
    "train_min_hypertune[config_model_1]=min_train\n",
    "val_min_hypertune[config_model_1]=min_val\n",
    "\n",
    "\n",
    "\n",
    "# -------------------------------- SECOND MODEL --------------------------------------------------------------------------------\n",
    "n_layers= 2\n",
    "n_hidden_units = 64\n",
    "config_model_2 = (n_layers, n_hidden_units)\n",
    "config_models.append(config_model_2)\n",
    "\n",
    "model_RNN_2 = keras.Sequential([\n",
    "    keras.layers.Dense(units=64, activation='relu', input_shape=(X_train.shape[1], )),\n",
    "    keras.layers.Dense(units=64, activation='relu'),\n",
    "    keras.layers.Dense(units=64, activation='relu'),\n",
    "    keras.layers.Dense(4, activation='softmax')  \n",
    "])\n",
    "\n",
    "# Compile the model\n",
    "model_RNN_2.compile(optimizer='adam', loss='categorical_crossentropy')  \n",
    "\n",
    "\n",
    "# Train the model\n",
    "\n",
    "mcp_save = tf.keras.callbacks.ModelCheckpoint('RNN_eng2.ckpt', save_best_only=True, monitor='val_loss', mode='min')\n",
    "\n",
    "history = model_RNN_2.fit(X_train, y_train_one_hot, epochs=n_epochs, batch_size=32, validation_data=(X_val, y_val_one_hot), callbacks=[mcp_save])\n",
    "\n",
    "train_loss_2 = history.history['loss']\n",
    "val_loss_2 = history.history['val_loss']\n",
    "\n",
    "min_train = min(train_loss_2)\n",
    "min_val = min(val_loss_2)\n",
    "train_min_hypertune[config_model_2]=min_train\n",
    "val_min_hypertune[config_model_2]=min_val\n",
    "\n",
    "# --------------------------------------THIRD MODEL-----------------------------------------------------------------------------\n",
    "n_layers= 3\n",
    "n_hidden_units = 64\n",
    "config_model_3 = (n_layers, n_hidden_units)\n",
    "config_models.append(config_model_3)\n",
    "\n",
    "model_RNN_3 = keras.Sequential([\n",
    "    keras.layers.Dense(units=64, activation='relu', input_shape=(X_train.shape[1],)),\n",
    "    keras.layers.Dense(units=64, activation='relu'),\n",
    "    keras.layers.Dense(units=64, activation='relu'),\n",
    "    keras.layers.Dense(units=64, activation='relu'),\n",
    "    keras.layers.Dense(4, activation='softmax')  \n",
    "])\n",
    "\n",
    "# Compile the model\n",
    "model_RNN_3.compile(optimizer='adam', loss='categorical_crossentropy')  \n",
    "\n",
    "# Train the model\n",
    "\n",
    "mcp_save = tf.keras.callbacks.ModelCheckpoint('RNN_eng3.ckpt', save_best_only=True, monitor='val_loss', mode='min')\n",
    "\n",
    "history = model_RNN_3.fit(X_train, y_train_one_hot, epochs=n_epochs, batch_size=32, validation_data=(X_val, y_val_one_hot), callbacks=[mcp_save])\n",
    "\n",
    "train_loss_3 = history.history['loss']\n",
    "val_loss_3 = history.history['val_loss']\n",
    "\n",
    "min_train = min(train_loss_3)\n",
    "min_val = min(val_loss_3)\n",
    "train_min_hypertune[config_model_3]=min_train\n",
    "val_min_hypertune[config_model_3]=min_val\n",
    "\n",
    "# --------------------------------------FOURTH MODEL-----------------------------------------------------------------------------\n",
    "n_layers= 1\n",
    "n_hidden_units = 128\n",
    "config_model_4 = (n_layers, n_hidden_units)\n",
    "config_models.append(config_model_4)\n",
    "\n",
    "model_RNN_4 = keras.Sequential([\n",
    "    keras.layers.Dense(units=128, activation='relu', input_shape=(X_train.shape[1],)),\n",
    "    keras.layers.Dense(units=128, activation='relu'),\n",
    "    keras.layers.Dense(4, activation='softmax')  \n",
    "])\n",
    "\n",
    "# Compile the model\n",
    "model_RNN_4.compile(optimizer='adam', loss='categorical_crossentropy')  \n",
    "\n",
    "# Train the model\n",
    "\n",
    "mcp_save = tf.keras.callbacks.ModelCheckpoint('RNN_eng4.ckpt', save_best_only=True, monitor='val_loss', mode='min')\n",
    "\n",
    "history = model_RNN_4.fit(X_train, y_train_one_hot, epochs=n_epochs, batch_size=32, validation_data=(X_val, y_val_one_hot), callbacks=[mcp_save])\n",
    "\n",
    "train_loss_4 = history.history['loss']\n",
    "val_loss_4 = history.history['val_loss']\n",
    "\n",
    "min_train = min(train_loss_4)\n",
    "min_val = min(val_loss_4)\n",
    "train_min_hypertune[config_model_4]=min_train\n",
    "val_min_hypertune[config_model_4]=min_val\n",
    "\n",
    "\n",
    "# --------------------------------------FIFTH MODEL-----------------------------------------------------------------------------\n",
    "n_layers= 2\n",
    "n_hidden_units = 128\n",
    "config_model_5 = (n_layers, n_hidden_units)\n",
    "config_models.append(config_model_5)\n",
    "\n",
    "model_RNN_5 = keras.Sequential([\n",
    "    keras.layers.Dense(units=128, activation='relu', input_shape=(X_train.shape[1],)),\n",
    "    keras.layers.Dense(units=128, activation='relu'),\n",
    "    keras.layers.Dense(units=128, activation='relu'),\n",
    "    keras.layers.Dense(4, activation='softmax')  \n",
    "])\n",
    "\n",
    "# Compile the model\n",
    "model_RNN_5.compile(optimizer='adam', loss='categorical_crossentropy')  \n",
    "\n",
    "# Train the model\n",
    "\n",
    "mcp_save = tf.keras.callbacks.ModelCheckpoint('RNN_eng5.ckpt', save_best_only=True, monitor='val_loss', mode='min')\n",
    "\n",
    "history = model_RNN_5.fit(X_train, y_train_one_hot, epochs=n_epochs, batch_size=32, validation_data=(X_val, y_val_one_hot), callbacks=[mcp_save])\n",
    "\n",
    "train_loss_5 = history.history['loss']\n",
    "val_loss_5 = history.history['val_loss']\n",
    "\n",
    "min_train = min(train_loss_5)\n",
    "min_val = min(val_loss_5)\n",
    "train_min_hypertune[config_model_5]=min_train\n",
    "val_min_hypertune[config_model_5]=min_val\n",
    "\n",
    "\n",
    "# --------------------------------------SIXTH MODEL-----------------------------------------------------------------------------\n",
    "n_layers= 3\n",
    "n_hidden_units = 128\n",
    "config_model_6 = (n_layers, n_hidden_units)\n",
    "config_models.append(config_model_6)\n",
    "\n",
    "model_RNN_6 = keras.Sequential([\n",
    "    keras.layers.Dense(units=128, activation='relu', input_shape=(X_train.shape[1], )),\n",
    "    keras.layers.Dense(units=128, activation='relu'),\n",
    "    keras.layers.Dense(units=128, activation='relu'),\n",
    "    keras.layers.Dense(units=128, activation='relu'),\n",
    "    keras.layers.Dense(4, activation='softmax')  \n",
    "])\n",
    "\n",
    "# Compile the model\n",
    "model_RNN_6.compile(optimizer='adam', loss='categorical_crossentropy')  \n",
    "\n",
    "# Reshape the data to match the input shape of the RNN\n",
    "X_train = X_train.reshape(X_train.shape[0], X_train.shape[1], 1)\n",
    "X_val = X_val.reshape(X_val.shape[0], X_val.shape[1], 1)\n",
    "\n",
    "# Train the model\n",
    "\n",
    "mcp_save = tf.keras.callbacks.ModelCheckpoint('RNN_eng6.ckpt', save_best_only=True, monitor='val_loss', mode='min')\n",
    "\n",
    "history = model_RNN_6.fit(X_train, y_train_one_hot, epochs=n_epochs, batch_size=32, validation_data=(X_val, y_val_one_hot), callbacks=[mcp_save])\n",
    "\n",
    "train_loss_6 = history.history['loss']\n",
    "val_loss_6 = history.history['val_loss']\n",
    "\n",
    "min_train = min(train_loss_6)\n",
    "min_val = min(val_loss_6)\n",
    "train_min_hypertune[config_model_6]=min_train\n",
    "val_min_hypertune[config_model_6]=min_val\n",
    "\n",
    "\n",
    "# --------------------------------------SEVENTH MODEL-----------------------------------------------------------------------------\n",
    "n_layers= 1\n",
    "n_hidden_units = 32\n",
    "config_model_7 = (n_layers, n_hidden_units)\n",
    "config_models.append(config_model_7)\n",
    "\n",
    "model_RNN_7 = keras.Sequential([\n",
    "    keras.layers.Dense(units=32, activation='relu', input_shape=(X_train.shape[1], )),\n",
    "    keras.layers.Dense(units=32, activation='relu'),\n",
    "    keras.layers.Dense(4, activation='softmax')  \n",
    "])\n",
    "\n",
    "# Compile the model\n",
    "model_RNN_7.compile(optimizer='adam', loss='categorical_crossentropy')  \n",
    "\n",
    "# Train the model\n",
    "mcp_save = tf.keras.callbacks.ModelCheckpoint('RNN_eng7.ckpt', save_best_only=True, monitor='val_loss', mode='min')\n",
    "history = model_RNN_7.fit(X_train, y_train_one_hot, epochs=n_epochs, batch_size=32, validation_data=(X_val, y_val_one_hot), callbacks=[mcp_save])\n",
    "\n",
    "train_loss_7 = history.history['loss']\n",
    "val_loss_7 = history.history['val_loss']\n",
    "\n",
    "min_train = min(train_loss_7)\n",
    "min_val = min(val_loss_7)\n",
    "train_min_hypertune[config_model_7]=min_train\n",
    "val_min_hypertune[config_model_7]=min_val\n",
    "\n",
    "\n",
    "\n",
    "\n",
    "# --------------------------------------EIGTH MODEL-----------------------------------------------------------------------------\n",
    "n_layers= 2\n",
    "n_hidden_units = 32\n",
    "\n",
    "config_model_8 = (n_layers, n_hidden_units)\n",
    "config_models.append(config_model_8)\n",
    "\n",
    "model_RNN_8 = keras.Sequential([\n",
    "    keras.layers.Dense(units=32, activation='relu', input_shape=(X_train.shape[1], )),\n",
    "    keras.layers.Dense(units=32, activation='relu'),\n",
    "    keras.layers.Dense(units=32, activation='relu'),\n",
    "    keras.layers.Dense(4, activation='softmax')  \n",
    "])\n",
    "\n",
    "# Compile the model\n",
    "model_RNN_8.compile(optimizer='adam', loss='categorical_crossentropy')  \n",
    "\n",
    "# Train the model\n",
    "\n",
    "mcp_save = tf.keras.callbacks.ModelCheckpoint('RNN_eng8.ckpt', save_best_only=True, monitor='val_loss', mode='min')\n",
    "\n",
    "history = model_RNN_8.fit(X_train, y_train_one_hot, epochs=n_epochs, batch_size=32, validation_data=(X_val, y_val_one_hot), callbacks=[mcp_save])\n",
    "\n",
    "train_loss_8 = history.history['loss']\n",
    "val_loss_8 = history.history['val_loss']\n",
    "min_train = min(train_loss_8)\n",
    "min_val = min(val_loss_8)\n",
    "train_min_hypertune[config_model_8]=min_train\n",
    "val_min_hypertune[config_model_8]=min_val\n",
    "\n",
    "# --------------------------------------NINTH MODEL-----------------------------------------------------------------------------\n",
    "n_layers= 3\n",
    "n_hidden_units = 32\n",
    "\n",
    "config_model_9 = (n_layers, n_hidden_units)\n",
    "config_models.append(config_model_9)\n",
    "\n",
    "model_RNN_9 = keras.Sequential([\n",
    "    keras.layers.Dense(units=32, activation='relu', input_shape=(X_train.shape[1], )),\n",
    "    keras.layers.Dense(units=32, activation='relu'),\n",
    "    keras.layers.Dense(units=32, activation='relu'),\n",
    "    keras.layers.Dense(units=32, activation='relu'),\n",
    "    keras.layers.Dense(4, activation='softmax')  \n",
    "])\n",
    "\n",
    "# Compile the model\n",
    "model_RNN_9.compile(optimizer='adam', loss='categorical_crossentropy')  \n",
    "\n",
    "# Train the model\n",
    "\n",
    "mcp_save = tf.keras.callbacks.ModelCheckpoint('RNN_eng9.ckpt', save_best_only=True, monitor='val_loss', mode='min')\n",
    "history = model_RNN_9.fit(X_train, y_train_one_hot, epochs=n_epochs, batch_size=32, validation_data=(X_val, y_val_one_hot), callbacks=[mcp_save])\n",
    "\n",
    "train_loss_9 = history.history['loss']\n",
    "val_loss_9 = history.history['val_loss']\n",
    "\n",
    "min_train = min(train_loss_9)\n",
    "min_val = min(val_loss_9)\n",
    "train_min_hypertune[config_model_9]=min_train\n",
    "val_min_hypertune[config_model_9]=min_val"
   ]
  },
  {
   "cell_type": "code",
   "execution_count": 12,
   "id": "c7759c04",
   "metadata": {},
   "outputs": [
    {
     "name": "stdout",
     "output_type": "stream",
     "text": [
      "{(1, 64): 0.06304267048835754, (2, 64): 0.0638723224401474, (3, 64): 0.06418899446725845, (1, 128): 0.062033068388700485, (2, 128): 0.06390652805566788, (3, 128): 0.06560096889734268, (1, 32): 0.06867332011461258, (2, 32): 0.06557250767946243, (3, 32): 0.06557328999042511}\n"
     ]
    }
   ],
   "source": [
    "print(val_min_hypertune)"
   ]
  },
  {
   "cell_type": "code",
   "execution_count": 14,
   "id": "fa1883c6",
   "metadata": {},
   "outputs": [
    {
     "data": {
      "image/png": "[encoded data removed]",
      "text/plain": [
       "<Figure size 640x480 with 1 Axes>"
      ]
     },
     "metadata": {},
     "output_type": "display_data"
    }
   ],
   "source": [
    "markers_dict = {64: 'x', 128: 'o', 32: '^'}\n",
    "plt.xlabel('Number of hidden layers')\n",
    "plt.ylabel('Validation Loss')\n",
    "plt.title('Neural Network Parameter Tuning')\n",
    "\n",
    "# Set to keep track of unique labels\n",
    "unique_labels = set()\n",
    "\n",
    "for i, config in enumerate(config_models):\n",
    "    label = f'number of units={config[1]}'\n",
    "    \n",
    "    # Only add to the legend if the label hasn't been added before\n",
    "    if label not in unique_labels:\n",
    "        plt.scatter(config[0], val_min_hypertune[config], marker=markers_dict[config[1]], label=label, color='purple')\n",
    "        unique_labels.add(label)\n",
    "    else:\n",
    "        \n",
    "        plt.scatter(config[0], val_min_hypertune[config], marker=markers_dict[config[1]], color='purple')\n",
    "\n",
    "plt.grid()\n",
    "plt.legend()\n",
    "plt.show()\n"
   ]
  },
  {
   "cell_type": "code",
   "execution_count": 15,
   "id": "be816e4e",
   "metadata": {},
   "outputs": [
    {
     "name": "stdout",
     "output_type": "stream",
     "text": [
      "13650/13650 [==============================] - 15s 1ms/step\n"
     ]
    },
    {
     "data": {
      "image/png": "[encoded data removed]",
      "text/plain": [
       "<Figure size 800x600 with 2 Axes>"
      ]
     },
     "metadata": {},
     "output_type": "display_data"
    },
    {
     "name": "stdout",
     "output_type": "stream",
     "text": [
      "              precision    recall  f1-score   support\n",
      "\n",
      "           1   0.971577  0.982593  0.977054    215895\n",
      "           6   0.953832  0.926446  0.939940     83626\n",
      "           7   0.999669  0.998872  0.999270     96663\n",
      "           8   0.998794  0.999532  0.999163     40599\n",
      "\n",
      "    accuracy                       0.977021    436783\n",
      "   macro avg   0.980968  0.976861  0.978857    436783\n",
      "weighted avg   0.976926  0.977021  0.976920    436783\n",
      "\n"
     ]
    }
   ],
   "source": [
    "\n",
    "# cambia con minimo di validation loss\n",
    "model_RNN_4.load_weights('RNN_eng4.ckpt')\n",
    "\n",
    "predictions = model_RNN_4.predict(X_test)\n",
    "\n",
    "# Define a function to plot the confusion matrix\n",
    "def plot_confusion_matrix(y_true, y_pred, title):\n",
    "    cm = confusion_matrix(y_true, y_pred)\n",
    "    plt.figure(figsize=(8, 6))\n",
    "    sns.heatmap(cm, annot=True, fmt=\"d\",  xticklabels=np.unique(y_true), yticklabels=np.unique(y_true))\n",
    "    plt.title(title)\n",
    "    plt.xlabel('Predicted')\n",
    "    plt.ylabel('Actual')\n",
    "    plt.show()\n",
    "\n",
    "\n",
    "preds_prob = np.argmax(predictions, axis = 1)\n",
    "label_reverse = {0: 1, 1: 6, 2: 7, 3: 8}\n",
    "preds = []\n",
    "for pred in preds_prob:\n",
    "    preds.append(label_reverse[pred])\n",
    "\n",
    "actual = []\n",
    "y_test_prob = np.argmax(y_test_one_hot, axis = 1)\n",
    "for test in y_test_prob:\n",
    "    actual.append(label_reverse[test])\n",
    "\n",
    "\n",
    "# Plot the confusion matrix for the training set\n",
    "plot_confusion_matrix(preds, actual, \"Confusion Matrix for Neural Network Classifier\")\n",
    "from sklearn.metrics import classification_report\n",
    "sk_report = classification_report(\n",
    "    digits=6,\n",
    "    y_true=actual, \n",
    "    y_pred=preds)\n",
    "print(sk_report)\n",
    "\n",
    "# Save the predictions\n",
    "with open('predictions_RNN_eng.pkl', 'wb') as file:\n",
    "    data_to_store = predictions\n",
    "    pickle.dump(data_to_store, file)"
   ]
  },
  {
   "cell_type": "code",
   "execution_count": 19,
   "id": "5740d0f9",
   "metadata": {},
   "outputs": [],
   "source": [
    "# Save the predictions\n",
    "with open('losses_eng.pkl', 'wb') as file:\n",
    "    data_to_store = (train_loss, val_loss) \n",
    "    pickle.dump(data_to_store, file)"
   ]
  },
  {
   "cell_type": "code",
   "execution_count": 10,
   "id": "05924aeb",
   "metadata": {},
   "outputs": [
    {
     "data": {
      "image/png": "[encoded data removed]",
      "text/plain": [
       "<Figure size 640x480 with 1 Axes>"
      ]
     },
     "metadata": {},
     "output_type": "display_data"
    }
   ],
   "source": [
    "dict_values = {64: [0.06304267048835754,  0.0638723224401474, 0.06418899446725845], 128:[0.062033068388700485, 0.06390652805566788,  0.06560096889734268], 32: [0.06867332011461258,  0.06557250767946243,  0.06557328999042511]}\n",
    "markers_dict = {64: 'x', 128: 'o', 32: '^'}\n",
    "color_dict = {64:'cyan', 128:'purple', 32:'lawngreen'}\n",
    "plt.xlabel('Number of hidden layers')\n",
    "plt.ylabel('Validation Loss')\n",
    "plt.title('Neural Network Parameter Tuning')\n",
    "\n",
    "# Set to keep track of unique labels\n",
    "unique_labels = set()\n",
    "\n",
    "for i, unit in enumerate([64,128,32]):\n",
    "    label = f'number of units={unit}'\n",
    "   \n",
    "    plt.plot(range(1,4), dict_values[unit], marker=markers_dict[unit], label=label, color=color_dict[unit], linestyle='dashed')\n",
    "           \n",
    "\n",
    "plt.grid()\n",
    "plt.legend()\n",
    "plt.show()\n"
   ]
  },
  {
   "cell_type": "code",
   "execution_count": null,
   "id": "ba38de2a",
   "metadata": {},
   "outputs": [],
   "source": []
  }
 ],
 "metadata": {
  "kernelspec": {
   "display_name": "Python 3 (ipykernel)",
   "language": "python",
   "name": "python3"
  },
  "language_info": {
   "codemirror_mode": {
    "name": "ipython",
    "version": 3
   },
   "file_extension": ".py",
   "mimetype": "text/x-python",
   "name": "python",
   "nbconvert_exporter": "python",
   "pygments_lexer": "ipython3",
   "version": "3.10.9"
  }
 },
 "nbformat": 4,
 "nbformat_minor": 5
}
